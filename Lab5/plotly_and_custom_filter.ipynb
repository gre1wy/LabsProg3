{
 "cells": [
  {
   "cell_type": "code",
   "execution_count": 1,
   "id": "6a1e932f-3434-4e43-8e7d-1e141fa3d99f",
   "metadata": {
    "tags": []
   },
   "outputs": [],
   "source": [
    "import numpy as np\n",
    "import plotly.graph_objects as go\n",
    "from ipywidgets import interactive, FloatSlider, Checkbox, IntSlider, Button, VBox, fixed\n",
    "from scipy.signal import savgol_filter"
   ]
  },
  {
   "cell_type": "code",
   "execution_count": 2,
   "id": "371b9ca7-547f-49eb-aaa9-3980350f6144",
   "metadata": {
    "tags": []
   },
   "outputs": [],
   "source": [
    "# Стартовые данные\n",
    "x = np.linspace(0, 1, 1000)\n",
    "initial_amplitude = 1.0\n",
    "initial_frequency = 1.0\n",
    "initial_phase = 0.0\n",
    "initial_noise_mean = 0.0\n",
    "initial_noise_covariance = 0.0\n",
    "initial_show_noise = True\n",
    "initial_window_size = 1"
   ]
  },
  {
   "cell_type": "code",
   "execution_count": 3,
   "id": "97e836b5-ae27-4b18-b75e-a2efafdf55ff",
   "metadata": {},
   "outputs": [],
   "source": [
    "def f(t, amplitude, frequency, phase):\n",
    "    harmonic = amplitude * np.sin(2 * np.pi * frequency * t + phase)\n",
    "    return harmonic"
   ]
  },
  {
   "cell_type": "code",
   "execution_count": 4,
   "id": "b22fd13d-72d5-47a6-8968-ac1a20c1ffed",
   "metadata": {},
   "outputs": [],
   "source": [
    "# Function to create noise\n",
    "def create_noise(x, noise_mean, noise_covariance):\n",
    "    noise = np.random.normal(noise_mean, np.sqrt(noise_covariance), size=len(x))\n",
    "    return noise"
   ]
  },
  {
   "cell_type": "code",
   "execution_count": 5,
   "id": "a952add9-6823-4323-8b8c-4b7be574bc12",
   "metadata": {
    "tags": []
   },
   "outputs": [],
   "source": [
    "noise = create_noise(x, initial_noise_mean, initial_noise_covariance)"
   ]
  },
  {
   "cell_type": "code",
   "execution_count": 6,
   "id": "6f66845e-bcd2-4afc-82ad-19ba5e348c6d",
   "metadata": {
    "tags": []
   },
   "outputs": [],
   "source": [
    "# Создаем слайдеры и чекбокс\n",
    "amplitude_slider = FloatSlider(value=initial_amplitude, min=0, max=10.0, step=0.1, description='Amplitude')\n",
    "frequency_slider = FloatSlider(value=initial_frequency, min=0, max=10.0, step=0.1, description='Frequency')\n",
    "phase_slider = FloatSlider(value=initial_phase, min=0, max=100, step=0.1, description='Phase')\n",
    "noise_mean_slider = FloatSlider(value=initial_noise_mean, min=0, max=10, step=0.1, description='Noise mean')\n",
    "noise_covariance_slider = FloatSlider(value=initial_noise_covariance, min=0, max=2, step=0.05, description='Noise covariance')\n",
    "show_noise_checkbox = Checkbox(value=True,description='Show noise')   \n",
    "window_size_slider = IntSlider(value=initial_window_size,min=1,max=200, step=1, description='Window size')"
   ]
  },
  {
   "cell_type": "code",
   "execution_count": 7,
   "id": "76b65391-5493-40ee-9911-aed77b23e3fb",
   "metadata": {
    "tags": []
   },
   "outputs": [],
   "source": [
    "signal = f(x, initial_amplitude, initial_frequency, initial_phase)"
   ]
  },
  {
   "cell_type": "code",
   "execution_count": 8,
   "id": "3d690e42-9bfb-4d02-abd9-a6b6a57a3e6f",
   "metadata": {
    "tags": []
   },
   "outputs": [],
   "source": [
    "last_noise = create_noise(x, initial_noise_mean, initial_noise_covariance)\n",
    "last_noise_mean = initial_noise_mean\n",
    "last_noise_covariance = initial_noise_covariance"
   ]
  },
  {
   "cell_type": "code",
   "execution_count": 9,
   "id": "c2245b3d-1101-4d22-9a22-b3ff80f62d51",
   "metadata": {
    "tags": []
   },
   "outputs": [],
   "source": [
    "# Функция для обновления графика при изменении слайдеров\n",
    "def create_signals(amplitude, frequency, phase, noise_mean, noise_covariance, show_noise, window_size):\n",
    "    fig = go.Figure()\n",
    "    fig2 = go.Figure()\n",
    "    clean_signal = f(x, amplitude, frequency, phase)\n",
    "    \n",
    "    if show_noise:\n",
    "        global last_noise, last_noise_mean, last_noise_covariance\n",
    "         # Check if noise_mean or noise_covariance has changed\n",
    "        if last_noise_mean != noise_mean or last_noise_covariance != noise_covariance:\n",
    "            noise = create_noise(x, noise_mean, noise_covariance)\n",
    "            last_noise = noise\n",
    "            last_noise_mean = noise_mean\n",
    "            last_noise_covariance = noise_covariance\n",
    "        else:\n",
    "            noise = last_noise\n",
    "        \n",
    "        noisy_signal = clean_signal + noise\n",
    "        fig.add_trace(go.Scatter(x=x, y=noisy_signal, mode='lines', name='Noizy sinusoid', line=dict(width=1, color='red')))\n",
    "        fig2.add_trace(go.Scatter(x=x, y=clean_signal, mode='lines', name='clean_signal', line=dict(width=1, color='blue')))\n",
    "        fig2.add_trace(go.Scatter(x=x, y=moving_average_filter(noisy_signal, window_size), mode='lines', name='moving_avg', line=dict(width=1, color='red')))\n",
    "        \n",
    "    fig.add_trace(go.Scatter(x=x, y=clean_signal, mode='lines', name='Sinusoid', line=dict(width=2, color='blue')))\n",
    "    fig.update_layout(title='Sinusoid Plot',\n",
    "                      xaxis_title='X',\n",
    "                      yaxis_title='Y',\n",
    "                      showlegend=True)\n",
    "    fig2.update_layout(title='Filtered sinusoid',\n",
    "                      xaxis_title='X',\n",
    "                      yaxis_title='Y',\n",
    "                      showlegend=True)\n",
    "    fig.show()\n",
    "    fig2.show()"
   ]
  },
  {
   "cell_type": "code",
   "execution_count": 10,
   "id": "0edbeb02-43ad-4f89-a412-e5eb35900225",
   "metadata": {
    "tags": []
   },
   "outputs": [],
   "source": [
    "def update_plot(amplitude, frequency, phase, noise_mean, noise_covariance, show_noise,window_size):\n",
    "    noise = create_noise(x, noise_mean, noise_covariance)\n",
    "    create_signals(amplitude, frequency, phase, noise_mean, noise_covariance, show_noise,window_size)"
   ]
  },
  {
   "cell_type": "code",
   "execution_count": 11,
   "id": "d8a339f2-ba1a-4edd-8032-931a2e02da83",
   "metadata": {},
   "outputs": [],
   "source": [
    "reset_button = Button(description=\"Reset to Initial\")\n",
    "def reset_parameters(button):\n",
    "    amplitude_slider.value = initial_amplitude\n",
    "    frequency_slider.value = initial_frequency\n",
    "    phase_slider.value = initial_phase\n",
    "    noise_mean_slider.value = initial_noise_mean\n",
    "    noise_covariance_slider.value = initial_noise_covariance\n",
    "    show_noise_checkbox.value = initial_show_noise\n",
    "reset_button.on_click(reset_parameters)"
   ]
  },
  {
   "cell_type": "code",
   "execution_count": 12,
   "id": "a77e369d-0188-484d-8421-319da6026201",
   "metadata": {
    "tags": []
   },
   "outputs": [],
   "source": [
    "def moving_average_filter(data, window_size):\n",
    "    kernel = np.ones(window_size) / window_size\n",
    "    filtered_data = np.convolve(data, kernel, mode='same')\n",
    "    return filtered_data"
   ]
  },
  {
   "cell_type": "code",
   "execution_count": 13,
   "id": "2bfd5b7c-ca91-474d-9b2b-251e1cf676be",
   "metadata": {
    "tags": []
   },
   "outputs": [],
   "source": [
    "def savgol(data, window_size, order):\n",
    "    half_size = window_size // 2\n",
    "\n",
    "    if window_size % 2 == 0:\n",
    "        raise ValueError(\"Window size must be odd.\")\n",
    "\n",
    "    if order >= window_size or order < 0:\n",
    "        raise ValueError(\"Order must be less than window size and non-negative.\")\n",
    "\n",
    "    result = np.zeros_like(data)\n",
    "\n",
    "    for i in range(half_size, len(data) - half_size):\n",
    "        window = np.arange(-half_size, half_size + 1)\n",
    "        coefficients = np.polyfit(window, data[i - half_size:i + half_size + 1], order)\n",
    "        result[i] = np.polyval(coefficients, 0)\n",
    "\n",
    "    return result\n"
   ]
  },
  {
   "cell_type": "code",
   "execution_count": 14,
   "id": "55cce6f9-f5e1-4ca0-ae3b-0f96fb276463",
   "metadata": {},
   "outputs": [
    {
     "data": {
      "application/vnd.jupyter.widget-view+json": {
       "model_id": "d25a4094717c455e9b5ab739d102bdb7",
       "version_major": 2,
       "version_minor": 0
      },
      "text/plain": [
       "Button(description='Reset to Initial', style=ButtonStyle())"
      ]
     },
     "metadata": {},
     "output_type": "display_data"
    },
    {
     "data": {
      "application/vnd.jupyter.widget-view+json": {
       "model_id": "f5b8f349c9fe4871bcd6fbdbb0ccd601",
       "version_major": 2,
       "version_minor": 0
      },
      "text/plain": [
       "interactive(children=(FloatSlider(value=1.0, description='Amplitude', max=10.0), FloatSlider(value=1.0, descri…"
      ]
     },
     "metadata": {},
     "output_type": "display_data"
    }
   ],
   "source": [
    "# Create the interactive plot\n",
    "interactive_plot = interactive(update_plot,\n",
    "                               amplitude=amplitude_slider,\n",
    "                               frequency=frequency_slider,\n",
    "                               phase=phase_slider,\n",
    "                               noise_mean=noise_mean_slider,\n",
    "                               noise_covariance=noise_covariance_slider,\n",
    "                               show_noise=show_noise_checkbox,\n",
    "                               window_size=window_size_slider)\n",
    "display(reset_button, interactive_plot)"
   ]
  },
  {
   "cell_type": "code",
   "execution_count": null,
   "id": "7154bd48-e6a4-4147-8169-4b06db4bbc8c",
   "metadata": {},
   "outputs": [],
   "source": []
  },
  {
   "cell_type": "code",
   "execution_count": null,
   "id": "7c8e1a85-664e-4848-9790-4d78387773ae",
   "metadata": {},
   "outputs": [],
   "source": []
  }
 ],
 "metadata": {
  "kernelspec": {
   "display_name": "Python 3",
   "language": "python",
   "name": "python3"
  },
  "language_info": {
   "codemirror_mode": {
    "name": "ipython",
    "version": 3
   },
   "file_extension": ".py",
   "mimetype": "text/x-python",
   "name": "python",
   "nbconvert_exporter": "python",
   "pygments_lexer": "ipython3",
   "version": "3.11.4"
  }
 },
 "nbformat": 4,
 "nbformat_minor": 5
}
