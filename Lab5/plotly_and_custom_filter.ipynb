{
 "cells": [
  {
   "cell_type": "code",
   "execution_count": 17,
   "id": "6a1e932f-3434-4e43-8e7d-1e141fa3d99f",
   "metadata": {
    "tags": []
   },
   "outputs": [],
   "source": [
    "import numpy as np\n",
    "import plotly.graph_objects as go\n",
    "from ipywidgets import interactive, FloatSlider, Checkbox, IntSlider\n",
    "#from custom_savgol_filter import savgol_filter_custom\n",
    "from scipy.signal import savgol_filter"
   ]
  },
  {
   "cell_type": "code",
   "execution_count": 18,
   "id": "371b9ca7-547f-49eb-aaa9-3980350f6144",
   "metadata": {
    "tags": []
   },
   "outputs": [],
   "source": [
    "# Стартовые данные\n",
    "x = np.linspace(0, 1, 1000)\n",
    "initial_amplitude = 1.0\n",
    "initial_frequency = 1.0\n",
    "initial_phase = 0.0\n",
    "initial_noise_mean = 0.0\n",
    "initial_noise_covariance = 0.0\n",
    "initial_show_noise = True\n",
    "initial_window_length = 1\n",
    "initial_polyorder = 0"
   ]
  },
  {
   "cell_type": "code",
   "execution_count": 19,
   "id": "97e836b5-ae27-4b18-b75e-a2efafdf55ff",
   "metadata": {},
   "outputs": [],
   "source": [
    "def f(t, amplitude, frequency, phase):\n",
    "    harmonic = amplitude * np.sin(2 * np.pi * frequency * t + phase)\n",
    "    return harmonic"
   ]
  },
  {
   "cell_type": "code",
   "execution_count": 20,
   "id": "b22fd13d-72d5-47a6-8968-ac1a20c1ffed",
   "metadata": {},
   "outputs": [],
   "source": [
    "# Function to create noise\n",
    "def create_noise(x, noise_mean, noise_covariance):\n",
    "    noise = np.random.normal(noise_mean, np.sqrt(noise_covariance), size=len(x))\n",
    "    return noise"
   ]
  },
  {
   "cell_type": "code",
   "execution_count": 21,
   "id": "a952add9-6823-4323-8b8c-4b7be574bc12",
   "metadata": {
    "tags": []
   },
   "outputs": [],
   "source": [
    "noise = create_noise(x, initial_noise_mean, initial_noise_covariance)"
   ]
  },
  {
   "cell_type": "code",
   "execution_count": 22,
   "id": "6f66845e-bcd2-4afc-82ad-19ba5e348c6d",
   "metadata": {
    "tags": []
   },
   "outputs": [],
   "source": [
    "# Создаем слайдеры и чекбокс\n",
    "amplitude_slider = FloatSlider(value=initial_amplitude, min=0, max=10.0, step=0.1, description='Amplitude')\n",
    "frequency_slider = FloatSlider(value=initial_frequency, min=0, max=10.0, step=0.1, description='Frequency')\n",
    "phase_slider = FloatSlider(value=initial_phase, min=0, max=100, step=0.1, description='Phase')\n",
    "noise_mean_slider = FloatSlider(value=initial_noise_mean, min=0, max=10, step=0.1, description='Noise mean')\n",
    "noise_covariance_slider = FloatSlider(value=initial_noise_covariance, min=0, max=10, step=0.1, description='Noise covariance')\n",
    "show_noise_checkbox = Checkbox(value=True,description='Show noise')\n",
    "window_size_slider = IntSlider(value=initial_window_length, min=0, max=200, step=1, description='Window size')\n",
    "polyorder_slider = IntSlider(value=initial_polyorder, min=0, max=10, step=1, description='Polyorder')                               "
   ]
  },
  {
   "cell_type": "code",
   "execution_count": 23,
   "id": "76b65391-5493-40ee-9911-aed77b23e3fb",
   "metadata": {
    "tags": []
   },
   "outputs": [],
   "source": [
    "signal = f(x, initial_amplitude, initial_frequency, initial_phase)"
   ]
  },
  {
   "cell_type": "code",
   "execution_count": 26,
   "id": "c2245b3d-1101-4d22-9a22-b3ff80f62d51",
   "metadata": {
    "tags": []
   },
   "outputs": [],
   "source": [
    "# Функция для обновления графика при изменении слайдеров\n",
    "def update_plot(amplitude, frequency, phase, noise_mean, noise_covariance, show_noise):\n",
    "    fig = go.Figure()\n",
    "    clean_signal = f(x, amplitude, frequency, phase)\n",
    "    fig.add_trace(go.Scatter(x=x, y=clean_signal,\n",
    "                             mode='lines', name='Sinusoid'))\n",
    "    \n",
    "    if show_noise_checkbox:\n",
    "        noisy_signal = clean_signal + noise\n",
    "        fig.add_trace(go.Scatter(x=x, y=noisy_signal,\n",
    "                             mode='lines', name='Sinusoid'))\n",
    "    fig.update_layout(title='Sinusoid Plot',\n",
    "                      xaxis_title='X',\n",
    "                      yaxis_title='Y',\n",
    "                      showlegend=False)\n",
    "    fig.show()"
   ]
  },
  {
   "cell_type": "code",
   "execution_count": 27,
   "id": "27b73890-d71d-46ba-8022-5e89275ed0d9",
   "metadata": {
    "tags": []
   },
   "outputs": [
    {
     "data": {
      "application/vnd.jupyter.widget-view+json": {
       "model_id": "7020760b9d8d469aa02b05eccbb6ee89",
       "version_major": 2,
       "version_minor": 0
      },
      "text/plain": [
       "interactive(children=(FloatSlider(value=1.0, description='Amplitude', max=10.0), FloatSlider(value=1.0, descri…"
      ]
     },
     "execution_count": 27,
     "metadata": {},
     "output_type": "execute_result"
    }
   ],
   "source": [
    "interactive_plot = interactive(update_plot,\n",
    "                               amplitude=amplitude_slider,\n",
    "                               frequency=frequency_slider,\n",
    "                               phase=phase_slider,\n",
    "                               noise_mean = noise_mean_slider,\n",
    "                               noise_covariance = noise_covariance_slider,\n",
    "                               show_noise = show_noise_checkbox\n",
    "                               )\n",
    "\n",
    "interactive_plot"
   ]
  },
  {
   "cell_type": "code",
   "execution_count": null,
   "id": "355ea64f-8b6a-4d7f-9dda-71d0751e26d7",
   "metadata": {},
   "outputs": [],
   "source": []
  },
  {
   "cell_type": "code",
   "execution_count": null,
   "id": "7154bd48-e6a4-4147-8169-4b06db4bbc8c",
   "metadata": {},
   "outputs": [],
   "source": []
  },
  {
   "cell_type": "code",
   "execution_count": null,
   "id": "e995e352-8950-4c0f-89fa-19e5e5af6848",
   "metadata": {},
   "outputs": [],
   "source": []
  }
 ],
 "metadata": {
  "kernelspec": {
   "display_name": "Python 3",
   "language": "python",
   "name": "python3"
  },
  "language_info": {
   "codemirror_mode": {
    "name": "ipython",
    "version": 3
   },
   "file_extension": ".py",
   "mimetype": "text/x-python",
   "name": "python",
   "nbconvert_exporter": "python",
   "pygments_lexer": "ipython3",
   "version": "3.11.4"
  }
 },
 "nbformat": 4,
 "nbformat_minor": 5
}
