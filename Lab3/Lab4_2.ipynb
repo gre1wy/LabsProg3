{
 "cells": [
  {
   "cell_type": "markdown",
   "id": "c5ebaf74",
   "metadata": {},
   "source": [
    "# Lab4 \n",
    "## Структури для роботи з великими обсягами даних в Python\n",
    " **Мета**: отримати навички роботи із структурами для зберігання в Python (python, numpy, pandas, numpy array, dataframe, timeit) <br>\n",
    "**Основні поняття**: numpy масиви, кортежі, списки, фрейми,профілювання."
   ]
  },
  {
   "cell_type": "code",
   "execution_count": 1,
   "id": "d899289b",
   "metadata": {},
   "outputs": [],
   "source": [
    "import pandas as pd\n",
    "import numpy as np\n",
    "import seaborn as sns\n",
    "import timeit\n",
    "import fuzzywuzzy\n",
    "from fuzzywuzzy import process\n",
    "import matplotlib.pyplot as plt\n",
    "import scipy\n",
    "from scipy import stats\n",
    "from sklearn.preprocessing import OneHotEncoder\n",
    "from numpy.lib.recfunctions import structured_to_unstructured"
   ]
  },
  {
   "cell_type": "markdown",
   "id": "1f1092c5",
   "metadata": {},
   "source": [
    "### Таймер для підрахунку часу роботи функції"
   ]
  },
  {
   "cell_type": "code",
   "execution_count": 2,
   "id": "c4cfe83b",
   "metadata": {},
   "outputs": [],
   "source": [
    "def timer(function, number=1):\n",
    "    execution_time = timeit.timeit(function, number=number)\n",
    "    print(f\"Execution time: {execution_time:.6f} seconds\")\n",
    "    return f'{execution_time:.6f}'"
   ]
  },
  {
   "cell_type": "markdown",
   "id": "40fd7081",
   "metadata": {},
   "source": [
    "## Завдання другого рівня\n",
    "Виконати всі завдання, використовуючи як numpy array, так і\n",
    "dataframe\n",
    "1. Поборотися із зниклими даними. Для цього в допомогу вам Медіум\n",
    "(https://towardsdatascience.com/how-to-handle-missing-data-8646b18db0d4).\n",
    "2. Пронормувати вибраний датасет або стандартизувати його\n",
    "(нормалізація і стандартизація мають бути реалізовані як окремі\n",
    "функції без застосування додаткових бібліотек, як наприклад\n",
    "sklearn.preprocessing).\n",
    "3. Збудувати гістограму по одному із атрибутів, що буде показувати на\n",
    "кількість елементів, що знаходяться у 10 діапазонах, які ви задасте.\n",
    "4. Збудувати графік залежності одного integer/real атрибута від іншого.\n",
    "5. Підрахувати коефіцієнт Пірсона та Спірсона для двох integer/real атрибутів.\n",
    "6. Провести One Hot Encoding категоріального string атрибуту.\n",
    "7. Провести візуалізацію багатовимірних даних, використовуючи приклади, наведені у медіумі -https://towardsdatascience.com/the-art-of-effective-visualization-of-multi-dimensional-data-6c7202990c57.\n",
    "\n",
    "Додаткове завдання:\n",
    "8. Поділити випадковим чином датасет на дві рівні частини. Навчити 3\n",
    "регресійні моделі на основі не менше одного атрибуту відновлювати\n",
    "інший. Навчання має відбуватися на основі першого датасету\n",
    "(https://scikit-learn.org/stable/modules/linear_model.html), візуалізувати\n",
    "моделі та на основі середньої квадратичної помилки (https://scikitlearn.org/stable/modules/generated/sklearn.metrics.mean_squared_error.html) вибрати найкращу."
   ]
  },
  {
   "cell_type": "markdown",
   "id": "6ed4974c",
   "metadata": {},
   "source": [
    "## Reading with pandas"
   ]
  },
  {
   "cell_type": "code",
   "execution_count": 3,
   "id": "fbf625a6",
   "metadata": {},
   "outputs": [],
   "source": [
    "data = 'garments_worker_productivity.csv'"
   ]
  },
  {
   "cell_type": "markdown",
   "id": "432222e4",
   "metadata": {},
   "source": [
    "### Understanding atributes<br>\n",
    "01\tdate\t\t\t:\tDate in MM-DD-YYYY <br>\n",
    "02\tday\t\t\t:\tDay of the Week<br>\n",
    "03\tquarter\t\t\t:\tA portion of the month. A month was divided into four quarters<br>\n",
    "04\tdepartment\t\t:\tAssociated department with the instance<br>\n",
    "05\tteam_no\t\t\t:\tAssociated team number with the instance<br>\n",
    "06\tno_of_workers\t\t:\tNumber of workers in each team<br>\n",
    "07\tno_of_style_change\t:\tNumber of changes in the style of a particular product<br>\n",
    "08\ttargeted_productivity\t:\tTargeted productivity set by the Authority for each team for each day.<br>\n",
    "09\tsmv\t\t\t:\tStandard Minute Value, it is the allocated time for a task<br>\n",
    "10\twip\t\t\t:\tWork in progress. Includes the number of unfinished items for products<br>\n",
    "11\tover_time\t\t:\tRepresents the amount of overtime by each team in minutes<br>\n",
    "12\tincentive\t\t:\tRepresents the amount of financial incentive (in BDT) that enables or motivates a particular course of action.<br>\n",
    "13\tidle_time\t\t:\tThe amount of time when the production was interrupted due to several reasons<br>\n",
    "14\tidle_men\t\t:\tThe number of workers who were idle due to production interruption<br>\n",
    "15\tactual_productivity\t:\tThe actual % of productivity that was delivered by the workers. It ranges from 0-1.<br>"
   ]
  },
  {
   "cell_type": "code",
   "execution_count": 4,
   "id": "6a37841f",
   "metadata": {},
   "outputs": [],
   "source": [
    "df = pd.read_csv(data,header=0, sep=',')"
   ]
  },
  {
   "cell_type": "code",
   "execution_count": 5,
   "id": "69fcb63f",
   "metadata": {},
   "outputs": [
    {
     "data": {
      "text/html": [
       "<div>\n",
       "<style scoped>\n",
       "    .dataframe tbody tr th:only-of-type {\n",
       "        vertical-align: middle;\n",
       "    }\n",
       "\n",
       "    .dataframe tbody tr th {\n",
       "        vertical-align: top;\n",
       "    }\n",
       "\n",
       "    .dataframe thead th {\n",
       "        text-align: right;\n",
       "    }\n",
       "</style>\n",
       "<table border=\"1\" class=\"dataframe\">\n",
       "  <thead>\n",
       "    <tr style=\"text-align: right;\">\n",
       "      <th></th>\n",
       "      <th>date</th>\n",
       "      <th>quarter</th>\n",
       "      <th>department</th>\n",
       "      <th>day</th>\n",
       "      <th>team</th>\n",
       "      <th>targeted_productivity</th>\n",
       "      <th>smv</th>\n",
       "      <th>wip</th>\n",
       "      <th>over_time</th>\n",
       "      <th>incentive</th>\n",
       "      <th>idle_time</th>\n",
       "      <th>idle_men</th>\n",
       "      <th>no_of_style_change</th>\n",
       "      <th>no_of_workers</th>\n",
       "      <th>actual_productivity</th>\n",
       "    </tr>\n",
       "  </thead>\n",
       "  <tbody>\n",
       "    <tr>\n",
       "      <th>0</th>\n",
       "      <td>1/1/2015</td>\n",
       "      <td>Quarter1</td>\n",
       "      <td>sweing</td>\n",
       "      <td>Thursday</td>\n",
       "      <td>8</td>\n",
       "      <td>0.80</td>\n",
       "      <td>26.16</td>\n",
       "      <td>1108.0</td>\n",
       "      <td>7080</td>\n",
       "      <td>98</td>\n",
       "      <td>0.0</td>\n",
       "      <td>0</td>\n",
       "      <td>0</td>\n",
       "      <td>59.0</td>\n",
       "      <td>0.940725</td>\n",
       "    </tr>\n",
       "    <tr>\n",
       "      <th>1</th>\n",
       "      <td>1/1/2015</td>\n",
       "      <td>Quarter1</td>\n",
       "      <td>finishing</td>\n",
       "      <td>Thursday</td>\n",
       "      <td>1</td>\n",
       "      <td>0.75</td>\n",
       "      <td>3.94</td>\n",
       "      <td>NaN</td>\n",
       "      <td>960</td>\n",
       "      <td>0</td>\n",
       "      <td>0.0</td>\n",
       "      <td>0</td>\n",
       "      <td>0</td>\n",
       "      <td>8.0</td>\n",
       "      <td>0.886500</td>\n",
       "    </tr>\n",
       "    <tr>\n",
       "      <th>2</th>\n",
       "      <td>1/1/2015</td>\n",
       "      <td>Quarter1</td>\n",
       "      <td>sweing</td>\n",
       "      <td>Thursday</td>\n",
       "      <td>11</td>\n",
       "      <td>0.80</td>\n",
       "      <td>11.41</td>\n",
       "      <td>968.0</td>\n",
       "      <td>3660</td>\n",
       "      <td>50</td>\n",
       "      <td>0.0</td>\n",
       "      <td>0</td>\n",
       "      <td>0</td>\n",
       "      <td>30.5</td>\n",
       "      <td>0.800570</td>\n",
       "    </tr>\n",
       "    <tr>\n",
       "      <th>3</th>\n",
       "      <td>1/1/2015</td>\n",
       "      <td>Quarter1</td>\n",
       "      <td>sweing</td>\n",
       "      <td>Thursday</td>\n",
       "      <td>12</td>\n",
       "      <td>0.80</td>\n",
       "      <td>11.41</td>\n",
       "      <td>968.0</td>\n",
       "      <td>3660</td>\n",
       "      <td>50</td>\n",
       "      <td>0.0</td>\n",
       "      <td>0</td>\n",
       "      <td>0</td>\n",
       "      <td>30.5</td>\n",
       "      <td>0.800570</td>\n",
       "    </tr>\n",
       "    <tr>\n",
       "      <th>4</th>\n",
       "      <td>1/1/2015</td>\n",
       "      <td>Quarter1</td>\n",
       "      <td>sweing</td>\n",
       "      <td>Thursday</td>\n",
       "      <td>6</td>\n",
       "      <td>0.80</td>\n",
       "      <td>25.90</td>\n",
       "      <td>1170.0</td>\n",
       "      <td>1920</td>\n",
       "      <td>50</td>\n",
       "      <td>0.0</td>\n",
       "      <td>0</td>\n",
       "      <td>0</td>\n",
       "      <td>56.0</td>\n",
       "      <td>0.800382</td>\n",
       "    </tr>\n",
       "    <tr>\n",
       "      <th>...</th>\n",
       "      <td>...</td>\n",
       "      <td>...</td>\n",
       "      <td>...</td>\n",
       "      <td>...</td>\n",
       "      <td>...</td>\n",
       "      <td>...</td>\n",
       "      <td>...</td>\n",
       "      <td>...</td>\n",
       "      <td>...</td>\n",
       "      <td>...</td>\n",
       "      <td>...</td>\n",
       "      <td>...</td>\n",
       "      <td>...</td>\n",
       "      <td>...</td>\n",
       "      <td>...</td>\n",
       "    </tr>\n",
       "    <tr>\n",
       "      <th>1192</th>\n",
       "      <td>3/11/2015</td>\n",
       "      <td>Quarter2</td>\n",
       "      <td>finishing</td>\n",
       "      <td>Wednesday</td>\n",
       "      <td>10</td>\n",
       "      <td>0.75</td>\n",
       "      <td>2.90</td>\n",
       "      <td>NaN</td>\n",
       "      <td>960</td>\n",
       "      <td>0</td>\n",
       "      <td>0.0</td>\n",
       "      <td>0</td>\n",
       "      <td>0</td>\n",
       "      <td>8.0</td>\n",
       "      <td>0.628333</td>\n",
       "    </tr>\n",
       "    <tr>\n",
       "      <th>1193</th>\n",
       "      <td>3/11/2015</td>\n",
       "      <td>Quarter2</td>\n",
       "      <td>finishing</td>\n",
       "      <td>Wednesday</td>\n",
       "      <td>8</td>\n",
       "      <td>0.70</td>\n",
       "      <td>3.90</td>\n",
       "      <td>NaN</td>\n",
       "      <td>960</td>\n",
       "      <td>0</td>\n",
       "      <td>0.0</td>\n",
       "      <td>0</td>\n",
       "      <td>0</td>\n",
       "      <td>8.0</td>\n",
       "      <td>0.625625</td>\n",
       "    </tr>\n",
       "    <tr>\n",
       "      <th>1194</th>\n",
       "      <td>3/11/2015</td>\n",
       "      <td>Quarter2</td>\n",
       "      <td>finishing</td>\n",
       "      <td>Wednesday</td>\n",
       "      <td>7</td>\n",
       "      <td>0.65</td>\n",
       "      <td>3.90</td>\n",
       "      <td>NaN</td>\n",
       "      <td>960</td>\n",
       "      <td>0</td>\n",
       "      <td>0.0</td>\n",
       "      <td>0</td>\n",
       "      <td>0</td>\n",
       "      <td>8.0</td>\n",
       "      <td>0.625625</td>\n",
       "    </tr>\n",
       "    <tr>\n",
       "      <th>1195</th>\n",
       "      <td>3/11/2015</td>\n",
       "      <td>Quarter2</td>\n",
       "      <td>finishing</td>\n",
       "      <td>Wednesday</td>\n",
       "      <td>9</td>\n",
       "      <td>0.75</td>\n",
       "      <td>2.90</td>\n",
       "      <td>NaN</td>\n",
       "      <td>1800</td>\n",
       "      <td>0</td>\n",
       "      <td>0.0</td>\n",
       "      <td>0</td>\n",
       "      <td>0</td>\n",
       "      <td>15.0</td>\n",
       "      <td>0.505889</td>\n",
       "    </tr>\n",
       "    <tr>\n",
       "      <th>1196</th>\n",
       "      <td>3/11/2015</td>\n",
       "      <td>Quarter2</td>\n",
       "      <td>finishing</td>\n",
       "      <td>Wednesday</td>\n",
       "      <td>6</td>\n",
       "      <td>0.70</td>\n",
       "      <td>2.90</td>\n",
       "      <td>NaN</td>\n",
       "      <td>720</td>\n",
       "      <td>0</td>\n",
       "      <td>0.0</td>\n",
       "      <td>0</td>\n",
       "      <td>0</td>\n",
       "      <td>6.0</td>\n",
       "      <td>0.394722</td>\n",
       "    </tr>\n",
       "  </tbody>\n",
       "</table>\n",
       "<p>1197 rows × 15 columns</p>\n",
       "</div>"
      ],
      "text/plain": [
       "           date   quarter  department        day  team  targeted_productivity  \\\n",
       "0      1/1/2015  Quarter1      sweing   Thursday     8                   0.80   \n",
       "1      1/1/2015  Quarter1  finishing    Thursday     1                   0.75   \n",
       "2      1/1/2015  Quarter1      sweing   Thursday    11                   0.80   \n",
       "3      1/1/2015  Quarter1      sweing   Thursday    12                   0.80   \n",
       "4      1/1/2015  Quarter1      sweing   Thursday     6                   0.80   \n",
       "...         ...       ...         ...        ...   ...                    ...   \n",
       "1192  3/11/2015  Quarter2   finishing  Wednesday    10                   0.75   \n",
       "1193  3/11/2015  Quarter2   finishing  Wednesday     8                   0.70   \n",
       "1194  3/11/2015  Quarter2   finishing  Wednesday     7                   0.65   \n",
       "1195  3/11/2015  Quarter2   finishing  Wednesday     9                   0.75   \n",
       "1196  3/11/2015  Quarter2   finishing  Wednesday     6                   0.70   \n",
       "\n",
       "        smv     wip  over_time  incentive  idle_time  idle_men  \\\n",
       "0     26.16  1108.0       7080         98        0.0         0   \n",
       "1      3.94     NaN        960          0        0.0         0   \n",
       "2     11.41   968.0       3660         50        0.0         0   \n",
       "3     11.41   968.0       3660         50        0.0         0   \n",
       "4     25.90  1170.0       1920         50        0.0         0   \n",
       "...     ...     ...        ...        ...        ...       ...   \n",
       "1192   2.90     NaN        960          0        0.0         0   \n",
       "1193   3.90     NaN        960          0        0.0         0   \n",
       "1194   3.90     NaN        960          0        0.0         0   \n",
       "1195   2.90     NaN       1800          0        0.0         0   \n",
       "1196   2.90     NaN        720          0        0.0         0   \n",
       "\n",
       "      no_of_style_change  no_of_workers  actual_productivity  \n",
       "0                      0           59.0             0.940725  \n",
       "1                      0            8.0             0.886500  \n",
       "2                      0           30.5             0.800570  \n",
       "3                      0           30.5             0.800570  \n",
       "4                      0           56.0             0.800382  \n",
       "...                  ...            ...                  ...  \n",
       "1192                   0            8.0             0.628333  \n",
       "1193                   0            8.0             0.625625  \n",
       "1194                   0            8.0             0.625625  \n",
       "1195                   0           15.0             0.505889  \n",
       "1196                   0            6.0             0.394722  \n",
       "\n",
       "[1197 rows x 15 columns]"
      ]
     },
     "execution_count": 5,
     "metadata": {},
     "output_type": "execute_result"
    }
   ],
   "source": [
    "df"
   ]
  },
  {
   "cell_type": "markdown",
   "id": "3f32c797",
   "metadata": {},
   "source": [
    "## Cleaning with pandas"
   ]
  },
  {
   "cell_type": "code",
   "execution_count": 6,
   "id": "4329e4a3",
   "metadata": {},
   "outputs": [
    {
     "name": "stdout",
     "output_type": "stream",
     "text": [
      "<class 'pandas.core.frame.DataFrame'>\n",
      "RangeIndex: 1197 entries, 0 to 1196\n",
      "Data columns (total 15 columns):\n",
      " #   Column                 Non-Null Count  Dtype  \n",
      "---  ------                 --------------  -----  \n",
      " 0   date                   1197 non-null   object \n",
      " 1   quarter                1197 non-null   object \n",
      " 2   department             1197 non-null   object \n",
      " 3   day                    1197 non-null   object \n",
      " 4   team                   1197 non-null   int64  \n",
      " 5   targeted_productivity  1197 non-null   float64\n",
      " 6   smv                    1197 non-null   float64\n",
      " 7   wip                    691 non-null    float64\n",
      " 8   over_time              1197 non-null   int64  \n",
      " 9   incentive              1197 non-null   int64  \n",
      " 10  idle_time              1197 non-null   float64\n",
      " 11  idle_men               1197 non-null   int64  \n",
      " 12  no_of_style_change     1197 non-null   int64  \n",
      " 13  no_of_workers          1197 non-null   float64\n",
      " 14  actual_productivity    1197 non-null   float64\n",
      "dtypes: float64(6), int64(5), object(4)\n",
      "memory usage: 140.4+ KB\n"
     ]
    }
   ],
   "source": [
    "df.info()"
   ]
  },
  {
   "cell_type": "code",
   "execution_count": 7,
   "id": "ceea9638",
   "metadata": {},
   "outputs": [
    {
     "name": "stdout",
     "output_type": "stream",
     "text": [
      "<class 'pandas.core.frame.DataFrame'>\n",
      "RangeIndex: 1197 entries, 0 to 1196\n",
      "Data columns (total 15 columns):\n",
      " #   Column                 Non-Null Count  Dtype  \n",
      "---  ------                 --------------  -----  \n",
      " 0   date                   1197 non-null   object \n",
      " 1   quarter                1197 non-null   object \n",
      " 2   department             1197 non-null   object \n",
      " 3   day                    1197 non-null   object \n",
      " 4   team                   1197 non-null   object \n",
      " 5   targeted_productivity  1197 non-null   float64\n",
      " 6   smv                    1197 non-null   float64\n",
      " 7   wip                    691 non-null    float64\n",
      " 8   over_time              1197 non-null   float64\n",
      " 9   incentive              1197 non-null   float64\n",
      " 10  idle_time              1197 non-null   float64\n",
      " 11  idle_men               1197 non-null   float64\n",
      " 12  no_of_style_change     1197 non-null   object \n",
      " 13  no_of_workers          1197 non-null   object \n",
      " 14  actual_productivity    1197 non-null   float64\n",
      "dtypes: float64(8), object(7)\n",
      "memory usage: 140.4+ KB\n"
     ]
    }
   ],
   "source": [
    "df['team'] = df['team'].astype(object)\n",
    "df['no_of_style_change'] = df['no_of_style_change'].astype(object)\n",
    "df['no_of_workers'] = df['no_of_workers'].astype(object)\n",
    "df['over_time'] = df['over_time'].astype(float)\n",
    "df['incentive'] = df['incentive'].astype(float)\n",
    "df['idle_men'] = df['idle_men'].astype(float)\n",
    "df.info()"
   ]
  },
  {
   "cell_type": "code",
   "execution_count": 8,
   "id": "8bf786f8",
   "metadata": {},
   "outputs": [
    {
     "name": "stdout",
     "output_type": "stream",
     "text": [
      "<class 'pandas.core.frame.DataFrame'>\n",
      "RangeIndex: 1197 entries, 0 to 1196\n",
      "Data columns (total 15 columns):\n",
      " #   Column                 Non-Null Count  Dtype  \n",
      "---  ------                 --------------  -----  \n",
      " 0   date                   1197 non-null   object \n",
      " 1   quarter                1197 non-null   object \n",
      " 2   department             1197 non-null   object \n",
      " 3   day                    1197 non-null   object \n",
      " 4   team                   1197 non-null   object \n",
      " 5   targeted_productivity  1197 non-null   float64\n",
      " 6   smv                    1197 non-null   float64\n",
      " 7   wip                    691 non-null    float64\n",
      " 8   over_time              1197 non-null   float64\n",
      " 9   incentive              1197 non-null   float64\n",
      " 10  idle_time              1197 non-null   float64\n",
      " 11  idle_men               1197 non-null   float64\n",
      " 12  no_of_style_change     1197 non-null   object \n",
      " 13  no_of_workers          1197 non-null   object \n",
      " 14  actual_productivity    1197 non-null   float64\n",
      "dtypes: float64(8), object(7)\n",
      "memory usage: 140.4+ KB\n"
     ]
    }
   ],
   "source": [
    "df.info()"
   ]
  },
  {
   "cell_type": "markdown",
   "id": "dfe57d7a",
   "metadata": {},
   "source": [
    "### Cleaning column 'department'"
   ]
  },
  {
   "cell_type": "code",
   "execution_count": 9,
   "id": "c1c2b0a7",
   "metadata": {},
   "outputs": [
    {
     "name": "stdout",
     "output_type": "stream",
     "text": [
      "<class 'pandas.core.frame.DataFrame'>\n",
      "RangeIndex: 1197 entries, 0 to 1196\n",
      "Data columns (total 15 columns):\n",
      " #   Column                 Non-Null Count  Dtype  \n",
      "---  ------                 --------------  -----  \n",
      " 0   date                   1197 non-null   object \n",
      " 1   quarter                1197 non-null   object \n",
      " 2   department             1197 non-null   object \n",
      " 3   day                    1197 non-null   object \n",
      " 4   team                   1197 non-null   object \n",
      " 5   targeted_productivity  1197 non-null   float64\n",
      " 6   smv                    1197 non-null   float64\n",
      " 7   wip                    691 non-null    float64\n",
      " 8   over_time              1197 non-null   float64\n",
      " 9   incentive              1197 non-null   float64\n",
      " 10  idle_time              1197 non-null   float64\n",
      " 11  idle_men               1197 non-null   float64\n",
      " 12  no_of_style_change     1197 non-null   object \n",
      " 13  no_of_workers          1197 non-null   object \n",
      " 14  actual_productivity    1197 non-null   float64\n",
      "dtypes: float64(8), object(7)\n",
      "memory usage: 140.4+ KB\n"
     ]
    }
   ],
   "source": [
    "df.info()"
   ]
  },
  {
   "cell_type": "code",
   "execution_count": 10,
   "id": "d0c80e52",
   "metadata": {},
   "outputs": [
    {
     "data": {
      "text/plain": [
       "array(['sweing', 'finishing ', 'finishing'], dtype=object)"
      ]
     },
     "execution_count": 10,
     "metadata": {},
     "output_type": "execute_result"
    }
   ],
   "source": [
    "df[\"department\"].unique()"
   ]
  },
  {
   "cell_type": "code",
   "execution_count": 11,
   "id": "8e8f4aed",
   "metadata": {},
   "outputs": [],
   "source": [
    "# function to replace rows in the provided column of the provided dataframe\n",
    "# that match the provided string above the provided ratio with the provided string\n",
    "def replace_matches_in_column(df, column, string_to_match, min_ratio = 90):\n",
    "    # get a list of unique strings\n",
    "    strings = df[column].unique()\n",
    "    \n",
    "    # get the top 10 closest matches to our input string\n",
    "    matches = fuzzywuzzy.process.extract(string_to_match, strings, \n",
    "                                         limit=10, scorer=fuzzywuzzy.fuzz.token_sort_ratio)\n",
    "\n",
    "    # only get matches with a ratio > 90\n",
    "    close_matches = [matches[0] for matches in matches if matches[1] >= min_ratio]\n",
    "\n",
    "    # get the rows of all the close matches in our dataframe\n",
    "    rows_with_matches = df[column].isin(close_matches)\n",
    "\n",
    "    # replace all rows with close matches with the input matches \n",
    "    df.loc[rows_with_matches, column] = string_to_match\n",
    "    \n",
    "    # let us know the function's done\n",
    "    print(\"All done!\")"
   ]
  },
  {
   "cell_type": "code",
   "execution_count": 12,
   "id": "9ded40f1",
   "metadata": {},
   "outputs": [
    {
     "name": "stdout",
     "output_type": "stream",
     "text": [
      "All done!\n"
     ]
    }
   ],
   "source": [
    "replace_matches_in_column(df=df, column='department', string_to_match=\"finishing\")"
   ]
  },
  {
   "cell_type": "code",
   "execution_count": 13,
   "id": "b95554ca",
   "metadata": {},
   "outputs": [
    {
     "data": {
      "text/plain": [
       "array(['sweing', 'finishing'], dtype=object)"
      ]
     },
     "execution_count": 13,
     "metadata": {},
     "output_type": "execute_result"
    }
   ],
   "source": [
    "df[\"department\"].unique()"
   ]
  },
  {
   "cell_type": "markdown",
   "id": "cff461f9",
   "metadata": {},
   "source": [
    "### Cleaning NaN values"
   ]
  },
  {
   "cell_type": "code",
   "execution_count": 14,
   "id": "f4d32ae6",
   "metadata": {},
   "outputs": [
    {
     "data": {
      "text/plain": [
       "True"
      ]
     },
     "execution_count": 14,
     "metadata": {},
     "output_type": "execute_result"
    }
   ],
   "source": [
    "df.isnull().values.any()"
   ]
  },
  {
   "cell_type": "code",
   "execution_count": 15,
   "id": "209f2f10",
   "metadata": {},
   "outputs": [
    {
     "data": {
      "text/plain": [
       "date                       0\n",
       "quarter                    0\n",
       "department                 0\n",
       "day                        0\n",
       "team                       0\n",
       "targeted_productivity      0\n",
       "smv                        0\n",
       "wip                      506\n",
       "over_time                  0\n",
       "incentive                  0\n",
       "idle_time                  0\n",
       "idle_men                   0\n",
       "no_of_style_change         0\n",
       "no_of_workers              0\n",
       "actual_productivity        0\n",
       "dtype: int64"
      ]
     },
     "execution_count": 15,
     "metadata": {},
     "output_type": "execute_result"
    }
   ],
   "source": [
    "df.isnull().sum()"
   ]
  },
  {
   "cell_type": "code",
   "execution_count": 16,
   "id": "905ebcd8",
   "metadata": {},
   "outputs": [
    {
     "data": {
      "text/html": [
       "<div>\n",
       "<style scoped>\n",
       "    .dataframe tbody tr th:only-of-type {\n",
       "        vertical-align: middle;\n",
       "    }\n",
       "\n",
       "    .dataframe tbody tr th {\n",
       "        vertical-align: top;\n",
       "    }\n",
       "\n",
       "    .dataframe thead th {\n",
       "        text-align: right;\n",
       "    }\n",
       "</style>\n",
       "<table border=\"1\" class=\"dataframe\">\n",
       "  <thead>\n",
       "    <tr style=\"text-align: right;\">\n",
       "      <th></th>\n",
       "      <th>date</th>\n",
       "      <th>quarter</th>\n",
       "      <th>department</th>\n",
       "      <th>day</th>\n",
       "      <th>team</th>\n",
       "      <th>targeted_productivity</th>\n",
       "      <th>smv</th>\n",
       "      <th>wip</th>\n",
       "      <th>over_time</th>\n",
       "      <th>incentive</th>\n",
       "      <th>idle_time</th>\n",
       "      <th>idle_men</th>\n",
       "      <th>no_of_style_change</th>\n",
       "      <th>no_of_workers</th>\n",
       "      <th>actual_productivity</th>\n",
       "    </tr>\n",
       "  </thead>\n",
       "  <tbody>\n",
       "    <tr>\n",
       "      <th>0</th>\n",
       "      <td>1/1/2015</td>\n",
       "      <td>Quarter1</td>\n",
       "      <td>sweing</td>\n",
       "      <td>Thursday</td>\n",
       "      <td>8</td>\n",
       "      <td>0.80</td>\n",
       "      <td>26.16</td>\n",
       "      <td>1108.0</td>\n",
       "      <td>7080.0</td>\n",
       "      <td>98.0</td>\n",
       "      <td>0.0</td>\n",
       "      <td>0.0</td>\n",
       "      <td>0</td>\n",
       "      <td>59.0</td>\n",
       "      <td>0.940725</td>\n",
       "    </tr>\n",
       "    <tr>\n",
       "      <th>2</th>\n",
       "      <td>1/1/2015</td>\n",
       "      <td>Quarter1</td>\n",
       "      <td>sweing</td>\n",
       "      <td>Thursday</td>\n",
       "      <td>11</td>\n",
       "      <td>0.80</td>\n",
       "      <td>11.41</td>\n",
       "      <td>968.0</td>\n",
       "      <td>3660.0</td>\n",
       "      <td>50.0</td>\n",
       "      <td>0.0</td>\n",
       "      <td>0.0</td>\n",
       "      <td>0</td>\n",
       "      <td>30.5</td>\n",
       "      <td>0.800570</td>\n",
       "    </tr>\n",
       "    <tr>\n",
       "      <th>3</th>\n",
       "      <td>1/1/2015</td>\n",
       "      <td>Quarter1</td>\n",
       "      <td>sweing</td>\n",
       "      <td>Thursday</td>\n",
       "      <td>12</td>\n",
       "      <td>0.80</td>\n",
       "      <td>11.41</td>\n",
       "      <td>968.0</td>\n",
       "      <td>3660.0</td>\n",
       "      <td>50.0</td>\n",
       "      <td>0.0</td>\n",
       "      <td>0.0</td>\n",
       "      <td>0</td>\n",
       "      <td>30.5</td>\n",
       "      <td>0.800570</td>\n",
       "    </tr>\n",
       "    <tr>\n",
       "      <th>4</th>\n",
       "      <td>1/1/2015</td>\n",
       "      <td>Quarter1</td>\n",
       "      <td>sweing</td>\n",
       "      <td>Thursday</td>\n",
       "      <td>6</td>\n",
       "      <td>0.80</td>\n",
       "      <td>25.90</td>\n",
       "      <td>1170.0</td>\n",
       "      <td>1920.0</td>\n",
       "      <td>50.0</td>\n",
       "      <td>0.0</td>\n",
       "      <td>0.0</td>\n",
       "      <td>0</td>\n",
       "      <td>56.0</td>\n",
       "      <td>0.800382</td>\n",
       "    </tr>\n",
       "    <tr>\n",
       "      <th>5</th>\n",
       "      <td>1/1/2015</td>\n",
       "      <td>Quarter1</td>\n",
       "      <td>sweing</td>\n",
       "      <td>Thursday</td>\n",
       "      <td>7</td>\n",
       "      <td>0.80</td>\n",
       "      <td>25.90</td>\n",
       "      <td>984.0</td>\n",
       "      <td>6720.0</td>\n",
       "      <td>38.0</td>\n",
       "      <td>0.0</td>\n",
       "      <td>0.0</td>\n",
       "      <td>0</td>\n",
       "      <td>56.0</td>\n",
       "      <td>0.800125</td>\n",
       "    </tr>\n",
       "    <tr>\n",
       "      <th>...</th>\n",
       "      <td>...</td>\n",
       "      <td>...</td>\n",
       "      <td>...</td>\n",
       "      <td>...</td>\n",
       "      <td>...</td>\n",
       "      <td>...</td>\n",
       "      <td>...</td>\n",
       "      <td>...</td>\n",
       "      <td>...</td>\n",
       "      <td>...</td>\n",
       "      <td>...</td>\n",
       "      <td>...</td>\n",
       "      <td>...</td>\n",
       "      <td>...</td>\n",
       "      <td>...</td>\n",
       "    </tr>\n",
       "    <tr>\n",
       "      <th>1187</th>\n",
       "      <td>3/11/2015</td>\n",
       "      <td>Quarter2</td>\n",
       "      <td>sweing</td>\n",
       "      <td>Wednesday</td>\n",
       "      <td>4</td>\n",
       "      <td>0.75</td>\n",
       "      <td>26.82</td>\n",
       "      <td>1054.0</td>\n",
       "      <td>7080.0</td>\n",
       "      <td>45.0</td>\n",
       "      <td>0.0</td>\n",
       "      <td>0.0</td>\n",
       "      <td>0</td>\n",
       "      <td>59.0</td>\n",
       "      <td>0.750051</td>\n",
       "    </tr>\n",
       "    <tr>\n",
       "      <th>1188</th>\n",
       "      <td>3/11/2015</td>\n",
       "      <td>Quarter2</td>\n",
       "      <td>sweing</td>\n",
       "      <td>Wednesday</td>\n",
       "      <td>5</td>\n",
       "      <td>0.70</td>\n",
       "      <td>26.82</td>\n",
       "      <td>992.0</td>\n",
       "      <td>6960.0</td>\n",
       "      <td>30.0</td>\n",
       "      <td>0.0</td>\n",
       "      <td>0.0</td>\n",
       "      <td>1</td>\n",
       "      <td>58.0</td>\n",
       "      <td>0.700557</td>\n",
       "    </tr>\n",
       "    <tr>\n",
       "      <th>1189</th>\n",
       "      <td>3/11/2015</td>\n",
       "      <td>Quarter2</td>\n",
       "      <td>sweing</td>\n",
       "      <td>Wednesday</td>\n",
       "      <td>8</td>\n",
       "      <td>0.70</td>\n",
       "      <td>30.48</td>\n",
       "      <td>914.0</td>\n",
       "      <td>6840.0</td>\n",
       "      <td>30.0</td>\n",
       "      <td>0.0</td>\n",
       "      <td>0.0</td>\n",
       "      <td>1</td>\n",
       "      <td>57.0</td>\n",
       "      <td>0.700505</td>\n",
       "    </tr>\n",
       "    <tr>\n",
       "      <th>1190</th>\n",
       "      <td>3/11/2015</td>\n",
       "      <td>Quarter2</td>\n",
       "      <td>sweing</td>\n",
       "      <td>Wednesday</td>\n",
       "      <td>6</td>\n",
       "      <td>0.70</td>\n",
       "      <td>23.41</td>\n",
       "      <td>1128.0</td>\n",
       "      <td>4560.0</td>\n",
       "      <td>40.0</td>\n",
       "      <td>0.0</td>\n",
       "      <td>0.0</td>\n",
       "      <td>1</td>\n",
       "      <td>38.0</td>\n",
       "      <td>0.700246</td>\n",
       "    </tr>\n",
       "    <tr>\n",
       "      <th>1191</th>\n",
       "      <td>3/11/2015</td>\n",
       "      <td>Quarter2</td>\n",
       "      <td>sweing</td>\n",
       "      <td>Wednesday</td>\n",
       "      <td>7</td>\n",
       "      <td>0.65</td>\n",
       "      <td>30.48</td>\n",
       "      <td>935.0</td>\n",
       "      <td>6840.0</td>\n",
       "      <td>26.0</td>\n",
       "      <td>0.0</td>\n",
       "      <td>0.0</td>\n",
       "      <td>1</td>\n",
       "      <td>57.0</td>\n",
       "      <td>0.650596</td>\n",
       "    </tr>\n",
       "  </tbody>\n",
       "</table>\n",
       "<p>691 rows × 15 columns</p>\n",
       "</div>"
      ],
      "text/plain": [
       "           date   quarter department        day team  targeted_productivity  \\\n",
       "0      1/1/2015  Quarter1     sweing   Thursday    8                   0.80   \n",
       "2      1/1/2015  Quarter1     sweing   Thursday   11                   0.80   \n",
       "3      1/1/2015  Quarter1     sweing   Thursday   12                   0.80   \n",
       "4      1/1/2015  Quarter1     sweing   Thursday    6                   0.80   \n",
       "5      1/1/2015  Quarter1     sweing   Thursday    7                   0.80   \n",
       "...         ...       ...        ...        ...  ...                    ...   \n",
       "1187  3/11/2015  Quarter2     sweing  Wednesday    4                   0.75   \n",
       "1188  3/11/2015  Quarter2     sweing  Wednesday    5                   0.70   \n",
       "1189  3/11/2015  Quarter2     sweing  Wednesday    8                   0.70   \n",
       "1190  3/11/2015  Quarter2     sweing  Wednesday    6                   0.70   \n",
       "1191  3/11/2015  Quarter2     sweing  Wednesday    7                   0.65   \n",
       "\n",
       "        smv     wip  over_time  incentive  idle_time  idle_men  \\\n",
       "0     26.16  1108.0     7080.0       98.0        0.0       0.0   \n",
       "2     11.41   968.0     3660.0       50.0        0.0       0.0   \n",
       "3     11.41   968.0     3660.0       50.0        0.0       0.0   \n",
       "4     25.90  1170.0     1920.0       50.0        0.0       0.0   \n",
       "5     25.90   984.0     6720.0       38.0        0.0       0.0   \n",
       "...     ...     ...        ...        ...        ...       ...   \n",
       "1187  26.82  1054.0     7080.0       45.0        0.0       0.0   \n",
       "1188  26.82   992.0     6960.0       30.0        0.0       0.0   \n",
       "1189  30.48   914.0     6840.0       30.0        0.0       0.0   \n",
       "1190  23.41  1128.0     4560.0       40.0        0.0       0.0   \n",
       "1191  30.48   935.0     6840.0       26.0        0.0       0.0   \n",
       "\n",
       "     no_of_style_change no_of_workers  actual_productivity  \n",
       "0                     0          59.0             0.940725  \n",
       "2                     0          30.5             0.800570  \n",
       "3                     0          30.5             0.800570  \n",
       "4                     0          56.0             0.800382  \n",
       "5                     0          56.0             0.800125  \n",
       "...                 ...           ...                  ...  \n",
       "1187                  0          59.0             0.750051  \n",
       "1188                  1          58.0             0.700557  \n",
       "1189                  1          57.0             0.700505  \n",
       "1190                  1          38.0             0.700246  \n",
       "1191                  1          57.0             0.650596  \n",
       "\n",
       "[691 rows x 15 columns]"
      ]
     },
     "execution_count": 16,
     "metadata": {},
     "output_type": "execute_result"
    }
   ],
   "source": [
    "filtered_df_1 = df[df['wip'].notnull()]\n",
    "filtered_df_1"
   ]
  },
  {
   "cell_type": "code",
   "execution_count": 17,
   "id": "6d1e3fb3",
   "metadata": {},
   "outputs": [
    {
     "data": {
      "text/html": [
       "<div>\n",
       "<style scoped>\n",
       "    .dataframe tbody tr th:only-of-type {\n",
       "        vertical-align: middle;\n",
       "    }\n",
       "\n",
       "    .dataframe tbody tr th {\n",
       "        vertical-align: top;\n",
       "    }\n",
       "\n",
       "    .dataframe thead th {\n",
       "        text-align: right;\n",
       "    }\n",
       "</style>\n",
       "<table border=\"1\" class=\"dataframe\">\n",
       "  <thead>\n",
       "    <tr style=\"text-align: right;\">\n",
       "      <th></th>\n",
       "      <th>date</th>\n",
       "      <th>quarter</th>\n",
       "      <th>department</th>\n",
       "      <th>day</th>\n",
       "      <th>team</th>\n",
       "      <th>targeted_productivity</th>\n",
       "      <th>smv</th>\n",
       "      <th>wip</th>\n",
       "      <th>over_time</th>\n",
       "      <th>incentive</th>\n",
       "      <th>idle_time</th>\n",
       "      <th>idle_men</th>\n",
       "      <th>no_of_style_change</th>\n",
       "      <th>no_of_workers</th>\n",
       "      <th>actual_productivity</th>\n",
       "    </tr>\n",
       "  </thead>\n",
       "  <tbody>\n",
       "    <tr>\n",
       "      <th>1</th>\n",
       "      <td>1/1/2015</td>\n",
       "      <td>Quarter1</td>\n",
       "      <td>finishing</td>\n",
       "      <td>Thursday</td>\n",
       "      <td>1</td>\n",
       "      <td>0.75</td>\n",
       "      <td>3.94</td>\n",
       "      <td>NaN</td>\n",
       "      <td>960.0</td>\n",
       "      <td>0.0</td>\n",
       "      <td>0.0</td>\n",
       "      <td>0.0</td>\n",
       "      <td>0</td>\n",
       "      <td>8.0</td>\n",
       "      <td>0.886500</td>\n",
       "    </tr>\n",
       "    <tr>\n",
       "      <th>6</th>\n",
       "      <td>1/1/2015</td>\n",
       "      <td>Quarter1</td>\n",
       "      <td>finishing</td>\n",
       "      <td>Thursday</td>\n",
       "      <td>2</td>\n",
       "      <td>0.75</td>\n",
       "      <td>3.94</td>\n",
       "      <td>NaN</td>\n",
       "      <td>960.0</td>\n",
       "      <td>0.0</td>\n",
       "      <td>0.0</td>\n",
       "      <td>0.0</td>\n",
       "      <td>0</td>\n",
       "      <td>8.0</td>\n",
       "      <td>0.755167</td>\n",
       "    </tr>\n",
       "    <tr>\n",
       "      <th>13</th>\n",
       "      <td>1/1/2015</td>\n",
       "      <td>Quarter1</td>\n",
       "      <td>finishing</td>\n",
       "      <td>Thursday</td>\n",
       "      <td>10</td>\n",
       "      <td>0.65</td>\n",
       "      <td>3.94</td>\n",
       "      <td>NaN</td>\n",
       "      <td>960.0</td>\n",
       "      <td>0.0</td>\n",
       "      <td>0.0</td>\n",
       "      <td>0.0</td>\n",
       "      <td>0</td>\n",
       "      <td>8.0</td>\n",
       "      <td>0.705917</td>\n",
       "    </tr>\n",
       "    <tr>\n",
       "      <th>14</th>\n",
       "      <td>1/1/2015</td>\n",
       "      <td>Quarter1</td>\n",
       "      <td>finishing</td>\n",
       "      <td>Thursday</td>\n",
       "      <td>8</td>\n",
       "      <td>0.75</td>\n",
       "      <td>2.90</td>\n",
       "      <td>NaN</td>\n",
       "      <td>960.0</td>\n",
       "      <td>0.0</td>\n",
       "      <td>0.0</td>\n",
       "      <td>0.0</td>\n",
       "      <td>0</td>\n",
       "      <td>8.0</td>\n",
       "      <td>0.676667</td>\n",
       "    </tr>\n",
       "    <tr>\n",
       "      <th>15</th>\n",
       "      <td>1/1/2015</td>\n",
       "      <td>Quarter1</td>\n",
       "      <td>finishing</td>\n",
       "      <td>Thursday</td>\n",
       "      <td>4</td>\n",
       "      <td>0.75</td>\n",
       "      <td>3.94</td>\n",
       "      <td>NaN</td>\n",
       "      <td>2160.0</td>\n",
       "      <td>0.0</td>\n",
       "      <td>0.0</td>\n",
       "      <td>0.0</td>\n",
       "      <td>0</td>\n",
       "      <td>18.0</td>\n",
       "      <td>0.593056</td>\n",
       "    </tr>\n",
       "    <tr>\n",
       "      <th>...</th>\n",
       "      <td>...</td>\n",
       "      <td>...</td>\n",
       "      <td>...</td>\n",
       "      <td>...</td>\n",
       "      <td>...</td>\n",
       "      <td>...</td>\n",
       "      <td>...</td>\n",
       "      <td>...</td>\n",
       "      <td>...</td>\n",
       "      <td>...</td>\n",
       "      <td>...</td>\n",
       "      <td>...</td>\n",
       "      <td>...</td>\n",
       "      <td>...</td>\n",
       "      <td>...</td>\n",
       "    </tr>\n",
       "    <tr>\n",
       "      <th>1192</th>\n",
       "      <td>3/11/2015</td>\n",
       "      <td>Quarter2</td>\n",
       "      <td>finishing</td>\n",
       "      <td>Wednesday</td>\n",
       "      <td>10</td>\n",
       "      <td>0.75</td>\n",
       "      <td>2.90</td>\n",
       "      <td>NaN</td>\n",
       "      <td>960.0</td>\n",
       "      <td>0.0</td>\n",
       "      <td>0.0</td>\n",
       "      <td>0.0</td>\n",
       "      <td>0</td>\n",
       "      <td>8.0</td>\n",
       "      <td>0.628333</td>\n",
       "    </tr>\n",
       "    <tr>\n",
       "      <th>1193</th>\n",
       "      <td>3/11/2015</td>\n",
       "      <td>Quarter2</td>\n",
       "      <td>finishing</td>\n",
       "      <td>Wednesday</td>\n",
       "      <td>8</td>\n",
       "      <td>0.70</td>\n",
       "      <td>3.90</td>\n",
       "      <td>NaN</td>\n",
       "      <td>960.0</td>\n",
       "      <td>0.0</td>\n",
       "      <td>0.0</td>\n",
       "      <td>0.0</td>\n",
       "      <td>0</td>\n",
       "      <td>8.0</td>\n",
       "      <td>0.625625</td>\n",
       "    </tr>\n",
       "    <tr>\n",
       "      <th>1194</th>\n",
       "      <td>3/11/2015</td>\n",
       "      <td>Quarter2</td>\n",
       "      <td>finishing</td>\n",
       "      <td>Wednesday</td>\n",
       "      <td>7</td>\n",
       "      <td>0.65</td>\n",
       "      <td>3.90</td>\n",
       "      <td>NaN</td>\n",
       "      <td>960.0</td>\n",
       "      <td>0.0</td>\n",
       "      <td>0.0</td>\n",
       "      <td>0.0</td>\n",
       "      <td>0</td>\n",
       "      <td>8.0</td>\n",
       "      <td>0.625625</td>\n",
       "    </tr>\n",
       "    <tr>\n",
       "      <th>1195</th>\n",
       "      <td>3/11/2015</td>\n",
       "      <td>Quarter2</td>\n",
       "      <td>finishing</td>\n",
       "      <td>Wednesday</td>\n",
       "      <td>9</td>\n",
       "      <td>0.75</td>\n",
       "      <td>2.90</td>\n",
       "      <td>NaN</td>\n",
       "      <td>1800.0</td>\n",
       "      <td>0.0</td>\n",
       "      <td>0.0</td>\n",
       "      <td>0.0</td>\n",
       "      <td>0</td>\n",
       "      <td>15.0</td>\n",
       "      <td>0.505889</td>\n",
       "    </tr>\n",
       "    <tr>\n",
       "      <th>1196</th>\n",
       "      <td>3/11/2015</td>\n",
       "      <td>Quarter2</td>\n",
       "      <td>finishing</td>\n",
       "      <td>Wednesday</td>\n",
       "      <td>6</td>\n",
       "      <td>0.70</td>\n",
       "      <td>2.90</td>\n",
       "      <td>NaN</td>\n",
       "      <td>720.0</td>\n",
       "      <td>0.0</td>\n",
       "      <td>0.0</td>\n",
       "      <td>0.0</td>\n",
       "      <td>0</td>\n",
       "      <td>6.0</td>\n",
       "      <td>0.394722</td>\n",
       "    </tr>\n",
       "  </tbody>\n",
       "</table>\n",
       "<p>506 rows × 15 columns</p>\n",
       "</div>"
      ],
      "text/plain": [
       "           date   quarter department        day team  targeted_productivity  \\\n",
       "1      1/1/2015  Quarter1  finishing   Thursday    1                   0.75   \n",
       "6      1/1/2015  Quarter1  finishing   Thursday    2                   0.75   \n",
       "13     1/1/2015  Quarter1  finishing   Thursday   10                   0.65   \n",
       "14     1/1/2015  Quarter1  finishing   Thursday    8                   0.75   \n",
       "15     1/1/2015  Quarter1  finishing   Thursday    4                   0.75   \n",
       "...         ...       ...        ...        ...  ...                    ...   \n",
       "1192  3/11/2015  Quarter2  finishing  Wednesday   10                   0.75   \n",
       "1193  3/11/2015  Quarter2  finishing  Wednesday    8                   0.70   \n",
       "1194  3/11/2015  Quarter2  finishing  Wednesday    7                   0.65   \n",
       "1195  3/11/2015  Quarter2  finishing  Wednesday    9                   0.75   \n",
       "1196  3/11/2015  Quarter2  finishing  Wednesday    6                   0.70   \n",
       "\n",
       "       smv  wip  over_time  incentive  idle_time  idle_men no_of_style_change  \\\n",
       "1     3.94  NaN      960.0        0.0        0.0       0.0                  0   \n",
       "6     3.94  NaN      960.0        0.0        0.0       0.0                  0   \n",
       "13    3.94  NaN      960.0        0.0        0.0       0.0                  0   \n",
       "14    2.90  NaN      960.0        0.0        0.0       0.0                  0   \n",
       "15    3.94  NaN     2160.0        0.0        0.0       0.0                  0   \n",
       "...    ...  ...        ...        ...        ...       ...                ...   \n",
       "1192  2.90  NaN      960.0        0.0        0.0       0.0                  0   \n",
       "1193  3.90  NaN      960.0        0.0        0.0       0.0                  0   \n",
       "1194  3.90  NaN      960.0        0.0        0.0       0.0                  0   \n",
       "1195  2.90  NaN     1800.0        0.0        0.0       0.0                  0   \n",
       "1196  2.90  NaN      720.0        0.0        0.0       0.0                  0   \n",
       "\n",
       "     no_of_workers  actual_productivity  \n",
       "1              8.0             0.886500  \n",
       "6              8.0             0.755167  \n",
       "13             8.0             0.705917  \n",
       "14             8.0             0.676667  \n",
       "15            18.0             0.593056  \n",
       "...            ...                  ...  \n",
       "1192           8.0             0.628333  \n",
       "1193           8.0             0.625625  \n",
       "1194           8.0             0.625625  \n",
       "1195          15.0             0.505889  \n",
       "1196           6.0             0.394722  \n",
       "\n",
       "[506 rows x 15 columns]"
      ]
     },
     "execution_count": 17,
     "metadata": {},
     "output_type": "execute_result"
    }
   ],
   "source": [
    "filtered_df_2 = df[df['wip'].isnull()]\n",
    "filtered_df_2"
   ]
  },
  {
   "cell_type": "code",
   "execution_count": 18,
   "id": "259958ce",
   "metadata": {},
   "outputs": [
    {
     "data": {
      "text/plain": [
       "array(['sweing'], dtype=object)"
      ]
     },
     "execution_count": 18,
     "metadata": {},
     "output_type": "execute_result"
    }
   ],
   "source": [
    "filtered_df_1[\"department\"].unique()"
   ]
  },
  {
   "cell_type": "code",
   "execution_count": 19,
   "id": "7834a8b4",
   "metadata": {},
   "outputs": [
    {
     "data": {
      "text/plain": [
       "array(['finishing'], dtype=object)"
      ]
     },
     "execution_count": 19,
     "metadata": {},
     "output_type": "execute_result"
    }
   ],
   "source": [
    "filtered_df_2[\"department\"].unique()"
   ]
  },
  {
   "cell_type": "code",
   "execution_count": 20,
   "id": "9b4a1055",
   "metadata": {},
   "outputs": [
    {
     "name": "stdout",
     "output_type": "stream",
     "text": [
      "<class 'pandas.core.frame.DataFrame'>\n",
      "RangeIndex: 1197 entries, 0 to 1196\n",
      "Data columns (total 15 columns):\n",
      " #   Column                 Non-Null Count  Dtype  \n",
      "---  ------                 --------------  -----  \n",
      " 0   date                   1197 non-null   object \n",
      " 1   quarter                1197 non-null   object \n",
      " 2   department             1197 non-null   object \n",
      " 3   day                    1197 non-null   object \n",
      " 4   team                   1197 non-null   object \n",
      " 5   targeted_productivity  1197 non-null   float64\n",
      " 6   smv                    1197 non-null   float64\n",
      " 7   wip                    691 non-null    float64\n",
      " 8   over_time              1197 non-null   float64\n",
      " 9   incentive              1197 non-null   float64\n",
      " 10  idle_time              1197 non-null   float64\n",
      " 11  idle_men               1197 non-null   float64\n",
      " 12  no_of_style_change     1197 non-null   object \n",
      " 13  no_of_workers          1197 non-null   object \n",
      " 14  actual_productivity    1197 non-null   float64\n",
      "dtypes: float64(8), object(7)\n",
      "memory usage: 140.4+ KB\n"
     ]
    }
   ],
   "source": [
    "df.info()"
   ]
  },
  {
   "cell_type": "markdown",
   "id": "13b578a3",
   "metadata": {},
   "source": [
    "**wip: Work in progress. Includes the number of unfinished items for products** <br>\n",
    "So we can assume that NaN in column \"wip\" is set only for department \"finishing\" and it means that we can change it to 0 because it displays that there is no number of unfinished items for products when it goes to department finishing"
   ]
  },
  {
   "cell_type": "code",
   "execution_count": 21,
   "id": "bae9482f",
   "metadata": {},
   "outputs": [],
   "source": [
    "df.fillna(0, inplace=True)"
   ]
  },
  {
   "cell_type": "markdown",
   "id": "5bd05ae1",
   "metadata": {},
   "source": [
    "## Reading with numpy"
   ]
  },
  {
   "cell_type": "code",
   "execution_count": 22,
   "id": "7a679d49",
   "metadata": {},
   "outputs": [
    {
     "data": {
      "text/plain": [
       "array([['1/1/2015', 'Quarter1', 'sweing', ..., 0, 59.0, 0.940725424],\n",
       "       ['1/1/2015', 'Quarter1', 'finishing', ..., 0, 8.0, 0.8865],\n",
       "       ['1/1/2015', 'Quarter1', 'sweing', ..., 0, 30.5, 0.800570492],\n",
       "       ...,\n",
       "       ['3/11/2015', 'Quarter2', 'finishing', ..., 0, 8.0, 0.625625],\n",
       "       ['3/11/2015', 'Quarter2', 'finishing', ..., 0, 15.0, 0.505888889],\n",
       "       ['3/11/2015', 'Quarter2', 'finishing', ..., 0, 6.0, 0.394722222]],\n",
       "      dtype=object)"
      ]
     },
     "execution_count": 22,
     "metadata": {},
     "output_type": "execute_result"
    }
   ],
   "source": [
    "def f1_reading_np():\n",
    "    arr = df.to_numpy()\n",
    "    return arr\n",
    "arr = f1_reading_np()\n",
    "arr"
   ]
  },
  {
   "cell_type": "code",
   "execution_count": 23,
   "id": "94405137",
   "metadata": {},
   "outputs": [
    {
     "data": {
      "text/plain": [
       "array([1108.0, 0.0, 968.0, ..., 0.0, 0.0, 0.0], dtype=object)"
      ]
     },
     "execution_count": 23,
     "metadata": {},
     "output_type": "execute_result"
    }
   ],
   "source": [
    "arr[:,7]"
   ]
  },
  {
   "cell_type": "code",
   "execution_count": 24,
   "id": "8fe679bc",
   "metadata": {},
   "outputs": [
    {
     "data": {
      "text/plain": [
       "array([('1/1/2015', 'Quarter1', 'sweing', 'Thursday', 8, 0.8 , 26.16, 1108., 7080., 98., 0., 0., 0, 59.0, 0.94072542),\n",
       "       ('1/1/2015', 'Quarter1', 'finishing', 'Thursday', 1, 0.75,  3.94,    0.,  960.,  0., 0., 0., 0, 8.0, 0.8865    ),\n",
       "       ('1/1/2015', 'Quarter1', 'sweing', 'Thursday', 11, 0.8 , 11.41,  968., 3660., 50., 0., 0., 0, 30.5, 0.80057049),\n",
       "       ...,\n",
       "       ('3/11/2015', 'Quarter2', 'finishing', 'Wednesday', 7, 0.65,  3.9 ,    0.,  960.,  0., 0., 0., 0, 8.0, 0.625625  ),\n",
       "       ('3/11/2015', 'Quarter2', 'finishing', 'Wednesday', 9, 0.75,  2.9 ,    0., 1800.,  0., 0., 0., 0, 15.0, 0.50588889),\n",
       "       ('3/11/2015', 'Quarter2', 'finishing', 'Wednesday', 6, 0.7 ,  2.9 ,    0.,  720.,  0., 0., 0., 0, 6.0, 0.39472222)],\n",
       "      dtype=[('date', 'O'), ('quarter', 'O'), ('department', 'O'), ('day', 'O'), ('team', 'O'), ('targeted_productivity', '<f8'), ('smv', '<f8'), ('wip', '<f8'), ('over_time', '<f8'), ('incentive', '<f8'), ('idle_time', '<f8'), ('idle_men', '<f8'), ('no_of_style_change', 'O'), ('no_of_workers', 'O'), ('actual_productivity', '<f8')])"
      ]
     },
     "execution_count": 24,
     "metadata": {},
     "output_type": "execute_result"
    }
   ],
   "source": [
    "def f1_reading_np_tuples():    \n",
    "    columns_list = df.columns.to_list()\n",
    "    dtypes = [df[column].dtype for column in columns_list]\n",
    "\n",
    "    arr_1 = np.array([tuple(row) for row in arr], dtype=list(zip(columns_list, dtypes)))\n",
    "    return arr_1\n",
    "arr_tuples = f1_reading_np_tuples()\n",
    "arr_tuples"
   ]
  },
  {
   "cell_type": "code",
   "execution_count": 25,
   "id": "125c4aa7",
   "metadata": {},
   "outputs": [
    {
     "name": "stdout",
     "output_type": "stream",
     "text": [
      "<class 'pandas.core.frame.DataFrame'>\n",
      "RangeIndex: 1197 entries, 0 to 1196\n",
      "Data columns (total 15 columns):\n",
      " #   Column                 Non-Null Count  Dtype  \n",
      "---  ------                 --------------  -----  \n",
      " 0   date                   1197 non-null   object \n",
      " 1   quarter                1197 non-null   object \n",
      " 2   department             1197 non-null   object \n",
      " 3   day                    1197 non-null   object \n",
      " 4   team                   1197 non-null   object \n",
      " 5   targeted_productivity  1197 non-null   float64\n",
      " 6   smv                    1197 non-null   float64\n",
      " 7   wip                    1197 non-null   float64\n",
      " 8   over_time              1197 non-null   float64\n",
      " 9   incentive              1197 non-null   float64\n",
      " 10  idle_time              1197 non-null   float64\n",
      " 11  idle_men               1197 non-null   float64\n",
      " 12  no_of_style_change     1197 non-null   object \n",
      " 13  no_of_workers          1197 non-null   object \n",
      " 14  actual_productivity    1197 non-null   float64\n",
      "dtypes: float64(8), object(7)\n",
      "memory usage: 140.4+ KB\n"
     ]
    }
   ],
   "source": [
    "df.info()"
   ]
  },
  {
   "cell_type": "markdown",
   "id": "0b50ed15",
   "metadata": {},
   "source": [
    "## 2. Normalization and standartization <br>\n",
    "Пронормувати вибраний датасет або стандартизувати його\n",
    "(нормалізація і стандартизація мають бути реалізовані як окремі\n",
    "функції без застосування додаткових бібліотек, як наприклад\n",
    "sklearn.preprocessing)."
   ]
  },
  {
   "cell_type": "markdown",
   "id": "5544e314",
   "metadata": {},
   "source": [
    "### Normalization"
   ]
  },
  {
   "cell_type": "markdown",
   "id": "12c5367e",
   "metadata": {},
   "source": [
    "Міняємо місця колонок так щоб зліва обджект дані, справа числові"
   ]
  },
  {
   "cell_type": "code",
   "execution_count": 26,
   "id": "c9201cad",
   "metadata": {},
   "outputs": [],
   "source": [
    "def f2_norm_df():\n",
    "    df_sel_types = df.select_dtypes(include=['number'])\n",
    "    \n",
    "    df_norm = (df_sel_types- df_sel_types.min()) / (df_sel_types.max() - df_sel_types.min())\n",
    "    \n",
    "    df_to_concat=df.drop(columns=df_norm.columns.to_list())\n",
    "    \n",
    "    df_normis = pd.concat((df_to_concat, df_norm), axis=1)\n",
    "    \n",
    "    return df_normis\n",
    "df_normis = f2_norm_df()"
   ]
  },
  {
   "cell_type": "code",
   "execution_count": 27,
   "id": "00915b1c",
   "metadata": {},
   "outputs": [],
   "source": [
    "def f2_norm_np():\n",
    "    array_copy = np.copy(arr)\n",
    "\n",
    "    min_max_values = [(np.min(array_copy[:, col]), np.max(array_copy[:, col])) for col in [5, 6, 7, 8, 9, 10, 11, 14]]\n",
    "    \n",
    "    columns_to_normalize = [5, 6, 7, 8, 9, 10, 11, 14]\n",
    "    for col in columns_to_normalize:\n",
    "        min_val, max_val = min_max_values[columns_to_normalize.index(col)]\n",
    "        array_copy[:, col] = (array_copy[:, col] - min_val) / (max_val - min_val)\n",
    "\n",
    "    return array_copy\n",
    "arr_normis = f2_norm_np()"
   ]
  },
  {
   "cell_type": "code",
   "execution_count": 28,
   "id": "b60dde03",
   "metadata": {},
   "outputs": [],
   "source": [
    "def f2_norm_np_tuples():\n",
    "    array_copy = np.copy(arr_tuples)\n",
    "    numeric_columns = ['targeted_productivity','smv','wip','over_time',\n",
    "                       'incentive','idle_time','idle_men','actual_productivity'] \n",
    "    min_max_values = [(np.min(array_copy[col]), np.max(array_copy[col])) for col in numeric_columns]\n",
    "    for col in numeric_columns:\n",
    "        array_copy[col] = array_copy[col].astype(float)\n",
    "\n",
    "    for col in numeric_columns:\n",
    "        min_val, max_val = min_max_values[numeric_columns.index(col)]\n",
    "        array_copy[col] = np.around((array_copy[col] - min_val) / (max_val - min_val), 6)\n",
    "\n",
    "    return array_copy\n",
    "arr_normis_tuples = f2_norm_np_tuples()"
   ]
  },
  {
   "cell_type": "code",
   "execution_count": 29,
   "id": "fb73a64c",
   "metadata": {},
   "outputs": [
    {
     "data": {
      "text/html": [
       "<div>\n",
       "<style scoped>\n",
       "    .dataframe tbody tr th:only-of-type {\n",
       "        vertical-align: middle;\n",
       "    }\n",
       "\n",
       "    .dataframe tbody tr th {\n",
       "        vertical-align: top;\n",
       "    }\n",
       "\n",
       "    .dataframe thead th {\n",
       "        text-align: right;\n",
       "    }\n",
       "</style>\n",
       "<table border=\"1\" class=\"dataframe\">\n",
       "  <thead>\n",
       "    <tr style=\"text-align: right;\">\n",
       "      <th></th>\n",
       "      <th>date</th>\n",
       "      <th>quarter</th>\n",
       "      <th>department</th>\n",
       "      <th>day</th>\n",
       "      <th>team</th>\n",
       "      <th>no_of_style_change</th>\n",
       "      <th>no_of_workers</th>\n",
       "      <th>targeted_productivity</th>\n",
       "      <th>smv</th>\n",
       "      <th>wip</th>\n",
       "      <th>over_time</th>\n",
       "      <th>incentive</th>\n",
       "      <th>idle_time</th>\n",
       "      <th>idle_men</th>\n",
       "      <th>actual_productivity</th>\n",
       "    </tr>\n",
       "  </thead>\n",
       "  <tbody>\n",
       "    <tr>\n",
       "      <th>0</th>\n",
       "      <td>1/1/2015</td>\n",
       "      <td>Quarter1</td>\n",
       "      <td>sweing</td>\n",
       "      <td>Thursday</td>\n",
       "      <td>8</td>\n",
       "      <td>0</td>\n",
       "      <td>59.0</td>\n",
       "      <td>1.0</td>\n",
       "      <td>0.450252</td>\n",
       "      <td>0.04792</td>\n",
       "      <td>0.273148</td>\n",
       "      <td>0.027222</td>\n",
       "      <td>0.0</td>\n",
       "      <td>0.0</td>\n",
       "      <td>0.797332</td>\n",
       "    </tr>\n",
       "  </tbody>\n",
       "</table>\n",
       "</div>"
      ],
      "text/plain": [
       "       date   quarter department       day team no_of_style_change  \\\n",
       "0  1/1/2015  Quarter1     sweing  Thursday    8                  0   \n",
       "\n",
       "  no_of_workers  targeted_productivity       smv      wip  over_time  \\\n",
       "0          59.0                    1.0  0.450252  0.04792   0.273148   \n",
       "\n",
       "   incentive  idle_time  idle_men  actual_productivity  \n",
       "0   0.027222        0.0       0.0             0.797332  "
      ]
     },
     "execution_count": 29,
     "metadata": {},
     "output_type": "execute_result"
    }
   ],
   "source": [
    "df_normis.head(1)"
   ]
  },
  {
   "cell_type": "code",
   "execution_count": 30,
   "id": "ba98636c",
   "metadata": {},
   "outputs": [
    {
     "data": {
      "text/plain": [
       "array(['1/1/2015', 'Quarter1', 'sweing', 'Thursday', 8, 1.0,\n",
       "       0.4502516453735966, 0.04791973012715163, 0.27314814814814814,\n",
       "       0.02722222222222222, 0.0, 0.0, 0, 59.0, 0.7973321464253331],\n",
       "      dtype=object)"
      ]
     },
     "execution_count": 30,
     "metadata": {},
     "output_type": "execute_result"
    }
   ],
   "source": [
    "arr_normis[0]"
   ]
  },
  {
   "cell_type": "code",
   "execution_count": 31,
   "id": "d0000452",
   "metadata": {},
   "outputs": [
    {
     "data": {
      "text/plain": [
       "('1/1/2015', 'Quarter1', 'sweing', 'Thursday', 8, 1., 0.450252, 0.04792, 0.273148, 0.027222, 0., 0., 0, 59.0, 0.797332)"
      ]
     },
     "execution_count": 31,
     "metadata": {},
     "output_type": "execute_result"
    }
   ],
   "source": [
    "arr_normis_tuples[0]"
   ]
  },
  {
   "cell_type": "code",
   "execution_count": 32,
   "id": "04cb5a92",
   "metadata": {},
   "outputs": [
    {
     "name": "stdout",
     "output_type": "stream",
     "text": [
      "Execution time: 0.002519 seconds\n",
      "Execution time: 0.001351 seconds\n",
      "Execution time: 0.001975 seconds\n"
     ]
    },
    {
     "data": {
      "text/plain": [
       "'0.001975'"
      ]
     },
     "execution_count": 32,
     "metadata": {},
     "output_type": "execute_result"
    }
   ],
   "source": [
    "timer(f2_norm_df)\n",
    "timer(f2_norm_np)\n",
    "timer(f2_norm_np_tuples)"
   ]
  },
  {
   "cell_type": "markdown",
   "id": "0d1a2f32",
   "metadata": {},
   "source": [
    "### Standartization"
   ]
  },
  {
   "cell_type": "code",
   "execution_count": 33,
   "id": "f6bfda4b",
   "metadata": {},
   "outputs": [],
   "source": [
    "def f2_stand_df():    \n",
    "    df_sel_types = df.select_dtypes(include=['number'])\n",
    "    df_st = (df_sel_types-df_sel_types.mean())/df_sel_types.std()\n",
    "    df_stand = pd.concat([df.select_dtypes(exclude=['number']), df_st], axis=1)\n",
    "    return df_stand\n",
    "df_stand = f2_stand_df()"
   ]
  },
  {
   "cell_type": "code",
   "execution_count": 34,
   "id": "bc7f2262",
   "metadata": {},
   "outputs": [],
   "source": [
    "def f2_stand_np():\n",
    "    array_copy = np.copy(arr)\n",
    "\n",
    "    mean_std_values = [(np.mean(array_copy[:, col]), np.std(array_copy[:, col])) for col in [5, 6, 7, 8, 9, 10, 11, 14]]\n",
    "    \n",
    "    columns_to_normalize = [5, 6, 7, 8, 9, 10, 11, 14]\n",
    "    for col in columns_to_normalize:\n",
    "        mean_val, std_val = mean_std_values[columns_to_normalize.index(col)]\n",
    "        array_copy[:, col] = (array_copy[:, col] - mean_val) / std_val\n",
    "    return array_copy\n",
    "\n",
    "arr_stand = f2_stand_np()"
   ]
  },
  {
   "cell_type": "code",
   "execution_count": 35,
   "id": "ade81ede",
   "metadata": {},
   "outputs": [],
   "source": [
    "def f2_stand_np_tuples():\n",
    "    array_copy = arr_tuples.copy()\n",
    "    array_copy['idle_men'] = array_copy['idle_men'].astype(\"float\")\n",
    "    numeric_columns = ['targeted_productivity','smv','wip','over_time', 'incentive','idle_time','idle_men','actual_productivity']    \n",
    "    mean_std_values = [(np.mean(array_copy[col]), np.std(array_copy[col])) for col in numeric_columns]\n",
    "\n",
    "    for col in numeric_columns:\n",
    "        mean_val, std_val = mean_std_values[numeric_columns.index(col)]\n",
    "        array_copy[col] = (array_copy[col] - mean_val) / std_val\n",
    "\n",
    "    \n",
    "    return array_copy\n",
    "\n",
    "arr_stand_tuples = f2_stand_np_tuples()"
   ]
  },
  {
   "cell_type": "code",
   "execution_count": 36,
   "id": "808a17a1",
   "metadata": {},
   "outputs": [
    {
     "data": {
      "text/html": [
       "<div>\n",
       "<style scoped>\n",
       "    .dataframe tbody tr th:only-of-type {\n",
       "        vertical-align: middle;\n",
       "    }\n",
       "\n",
       "    .dataframe tbody tr th {\n",
       "        vertical-align: top;\n",
       "    }\n",
       "\n",
       "    .dataframe thead th {\n",
       "        text-align: right;\n",
       "    }\n",
       "</style>\n",
       "<table border=\"1\" class=\"dataframe\">\n",
       "  <thead>\n",
       "    <tr style=\"text-align: right;\">\n",
       "      <th></th>\n",
       "      <th>date</th>\n",
       "      <th>quarter</th>\n",
       "      <th>department</th>\n",
       "      <th>day</th>\n",
       "      <th>team</th>\n",
       "      <th>no_of_style_change</th>\n",
       "      <th>no_of_workers</th>\n",
       "      <th>targeted_productivity</th>\n",
       "      <th>smv</th>\n",
       "      <th>wip</th>\n",
       "      <th>over_time</th>\n",
       "      <th>incentive</th>\n",
       "      <th>idle_time</th>\n",
       "      <th>idle_men</th>\n",
       "      <th>actual_productivity</th>\n",
       "    </tr>\n",
       "  </thead>\n",
       "  <tbody>\n",
       "    <tr>\n",
       "      <th>0</th>\n",
       "      <td>1/1/2015</td>\n",
       "      <td>Quarter1</td>\n",
       "      <td>sweing</td>\n",
       "      <td>Thursday</td>\n",
       "      <td>8</td>\n",
       "      <td>0</td>\n",
       "      <td>59.0</td>\n",
       "      <td>0.718836</td>\n",
       "      <td>1.014128</td>\n",
       "      <td>0.277814</td>\n",
       "      <td>0.750275</td>\n",
       "      <td>0.373258</td>\n",
       "      <td>-0.057449</td>\n",
       "      <td>-0.112957</td>\n",
       "      <td>1.178502</td>\n",
       "    </tr>\n",
       "  </tbody>\n",
       "</table>\n",
       "</div>"
      ],
      "text/plain": [
       "       date   quarter department       day team no_of_style_change  \\\n",
       "0  1/1/2015  Quarter1     sweing  Thursday    8                  0   \n",
       "\n",
       "  no_of_workers  targeted_productivity       smv       wip  over_time  \\\n",
       "0          59.0               0.718836  1.014128  0.277814   0.750275   \n",
       "\n",
       "   incentive  idle_time  idle_men  actual_productivity  \n",
       "0   0.373258  -0.057449 -0.112957             1.178502  "
      ]
     },
     "execution_count": 36,
     "metadata": {},
     "output_type": "execute_result"
    }
   ],
   "source": [
    "df_stand.head(1)"
   ]
  },
  {
   "cell_type": "code",
   "execution_count": 37,
   "id": "0505a0c7",
   "metadata": {},
   "outputs": [
    {
     "data": {
      "text/plain": [
       "array(['1/1/2015', 'Quarter1', 'sweing', 'Thursday', 8,\n",
       "       0.7191368337605344, 1.0145521433346982, 0.2779299545557099,\n",
       "       0.7505889183804769, 0.37341414161365943, -0.05747269159863287,\n",
       "       -0.11300466385061474, 0, 59.0, 1.1789944887241621], dtype=object)"
      ]
     },
     "execution_count": 37,
     "metadata": {},
     "output_type": "execute_result"
    }
   ],
   "source": [
    "arr_stand[0]"
   ]
  },
  {
   "cell_type": "code",
   "execution_count": 38,
   "id": "adb086d6",
   "metadata": {},
   "outputs": [
    {
     "data": {
      "text/plain": [
       "('1/1/2015', 'Quarter1', 'sweing', 'Thursday', 8, 0.71913683, 1.01455214, 0.27792995, 0.75058892, 0.37341414, -0.05747269, -0.11300466, 0, 59.0, 1.17899449)"
      ]
     },
     "execution_count": 38,
     "metadata": {},
     "output_type": "execute_result"
    }
   ],
   "source": [
    "arr_stand_tuples[0]"
   ]
  },
  {
   "cell_type": "markdown",
   "id": "35c62c02",
   "metadata": {},
   "source": [
    "### 3. Збудувати гістограму по одному із атрибутів, що буде показувати на кількість елементів, що знаходяться у 10 діапазонах, які ви задасте."
   ]
  },
  {
   "cell_type": "code",
   "execution_count": 53,
   "id": "b7b8c252",
   "metadata": {},
   "outputs": [
    {
     "data": {
      "image/png": "[encoded data removed]",
      "text/plain": [
       "<Figure size 432x288 with 1 Axes>"
      ]
     },
     "metadata": {
      "needs_background": "light"
     },
     "output_type": "display_data"
    }
   ],
   "source": [
    "def plot_df_autobins():\n",
    "    plt.hist(df_stand['actual_productivity'], bins=10, edgecolor='black')\n",
    "    plt.xlabel('Значення')\n",
    "    plt.ylabel('Кількість')\n",
    "    plt.title('Гістограма з 10 бінами')\n",
    "    plt.show()\n",
    "plot_df_autobins()"
   ]
  },
  {
   "cell_type": "code",
   "execution_count": 55,
   "id": "90c31d9a",
   "metadata": {},
   "outputs": [
    {
     "data": {
      "image/png": "[encoded data removed]",
      "text/plain": [
       "<Figure size 432x288 with 1 Axes>"
      ]
     },
     "metadata": {
      "needs_background": "light"
     },
     "output_type": "display_data"
    }
   ],
   "source": [
    "def plot_arr_autobins():  \n",
    "    plt.hist(arr_stand[:,14], bins=10, edgecolor='black')\n",
    "    plt.xlabel('Значення')\n",
    "    plt.ylabel('Кількість')\n",
    "    plt.title('Гістограма з 10 бінами')\n",
    "    plt.show()\n",
    "plot_arr_autobins()"
   ]
  },
  {
   "cell_type": "code",
   "execution_count": 57,
   "id": "6eda7835",
   "metadata": {},
   "outputs": [
    {
     "data": {
      "image/png": "[encoded data removed]",
      "text/plain": [
       "<Figure size 432x288 with 1 Axes>"
      ]
     },
     "metadata": {
      "needs_background": "light"
     },
     "output_type": "display_data"
    }
   ],
   "source": [
    "def plot_df_choosebins():\n",
    "    attribute_to_plot = 'actual_productivity'\n",
    "    custom_bins = [0, 0.1, 0.2, 0.3, 0.4, 0.5, 0.6, 0.7, 0.8, 0.9, 1.0, 1.1, 1.2, 1.3]\n",
    "    plt.hist(df_stand[attribute_to_plot], bins=custom_bins, edgecolor='k')\n",
    "    plt.xlabel(attribute_to_plot)\n",
    "    plt.ylabel('Кількість елементів')\n",
    "    plt.title(f'Гістограма {attribute_to_plot}')\n",
    "    plt.show()\n",
    "plot_df_choosebins()"
   ]
  },
  {
   "cell_type": "code",
   "execution_count": 60,
   "id": "490b1e43",
   "metadata": {},
   "outputs": [
    {
     "data": {
      "image/png": "[encoded data removed]",
      "text/plain": [
       "<Figure size 432x288 with 1 Axes>"
      ]
     },
     "metadata": {
      "needs_background": "light"
     },
     "output_type": "display_data"
    }
   ],
   "source": [
    "def plot_ar_choosebins():\n",
    "    attribute_to_plot = 'actual_productivity'\n",
    "    custom_bins = [0, 0.1, 0.2, 0.3, 0.4, 0.5, 0.6, 0.7, 0.8, 0.9, 1.0, 1.1, 1.2, 1.3]\n",
    "    plt.hist(arr_stand_tuples[attribute_to_plot], bins=custom_bins, edgecolor='k')\n",
    "    plt.xlabel(attribute_to_plot)\n",
    "    plt.ylabel('Кількість елементів')\n",
    "    plt.title(f'Гістограма {attribute_to_plot}')\n",
    "    plt.show()\n",
    "plot_ar_choosebins()"
   ]
  },
  {
   "cell_type": "markdown",
   "id": "58ccfa8d",
   "metadata": {},
   "source": [
    "### 4. Збудувати графік залежності одного integer/real атрибута від іншого."
   ]
  },
  {
   "cell_type": "code",
   "execution_count": 61,
   "id": "23226b9f",
   "metadata": {},
   "outputs": [
    {
     "data": {
      "image/png": "[encoded data removed]",
      "text/plain": [
       "<Figure size 432x288 with 1 Axes>"
      ]
     },
     "metadata": {
      "needs_background": "light"
     },
     "output_type": "display_data"
    }
   ],
   "source": [
    "def graph_4_df():\n",
    "    atr1 = \"idle_time\"\n",
    "    atr2 = \"idle_men\"\n",
    "    sns.regplot(x = df_normis[atr1], y = df_normis[atr2])\n",
    "    plt.xlabel(atr1)\n",
    "    plt.ylabel(atr2)\n",
    "    plt.title(f'Графік залежності {atr2} від {atr1}')\n",
    "    plt.show()\n",
    "graph_4_df()"
   ]
  },
  {
   "cell_type": "code",
   "execution_count": 65,
   "id": "85cb2e80",
   "metadata": {},
   "outputs": [
    {
     "data": {
      "image/png": "[encoded data removed]",
      "text/plain": [
       "<Figure size 432x288 with 1 Axes>"
      ]
     },
     "metadata": {
      "needs_background": "light"
     },
     "output_type": "display_data"
    }
   ],
   "source": [
    "def graph_4_np():\n",
    "    atr1 = \"idle_time\"\n",
    "    atr2 = \"idle_men\"\n",
    "    sns.regplot(x = arr_stand_tuples[atr1], y = arr_stand_tuples[atr2])\n",
    "    plt.xlabel(f'{atr1}')\n",
    "    plt.ylabel(f'{atr2}')\n",
    "    plt.title(f'Графік залежності {atr2} від {atr1}')\n",
    "    plt.show()\n",
    "graph_4_np()"
   ]
  },
  {
   "cell_type": "code",
   "execution_count": 66,
   "id": "bc015399",
   "metadata": {},
   "outputs": [
    {
     "data": {
      "image/png": "[encoded data removed]",
      "text/plain": [
       "<Figure size 432x288 with 1 Axes>"
      ]
     },
     "metadata": {
      "needs_background": "light"
     },
     "output_type": "display_data"
    }
   ],
   "source": [
    "def graph_4_np_tuples(atr1, atr2):\n",
    "    sns.regplot(x = arr_stand_tuples[f'{atr1}'], y = arr_stand_tuples[f'{atr2}'])\n",
    "    plt.xlabel(atr1)\n",
    "    plt.ylabel(atr2)\n",
    "    plt.title(f'Графік залежності {atr2} від {atr1}')\n",
    "    plt.show()\n",
    "graph_4_np_tuples('idle_time', 'idle_men')"
   ]
  },
  {
   "cell_type": "markdown",
   "id": "6b35e2b0",
   "metadata": {},
   "source": [
    "### 5. Підрахувати коефіцієнт Пірсона та Спірсона(Спірмена???) для двох integer/real атрибутів."
   ]
  },
  {
   "cell_type": "code",
   "execution_count": 67,
   "id": "739c28c1",
   "metadata": {},
   "outputs": [],
   "source": [
    "def pearson_df(atr1, atr2):\n",
    "    x = df_stand[atr1]\n",
    "    y = df_stand[atr2]\n",
    "    k, p = scipy.stats.pearsonr(x, y)\n",
    "    return k, p\n",
    "def spearman_df(atr1, atr2):\n",
    "    x = df_stand[atr1]\n",
    "    y = df_stand[atr2]\n",
    "    k, p = scipy.stats.spearmanr(x, y)\n",
    "    return k, p\n",
    "def pearson_np(atr1, atr2):\n",
    "    x = arr_stand_tuples[atr1]\n",
    "    y = arr_stand_tuples[atr2]\n",
    "    k, p = scipy.stats.pearsonr(x, y)\n",
    "    return k, p\n",
    "def spearman_np(atr1, atr2):\n",
    "    x = arr_stand_tuples[atr1]\n",
    "    y = arr_stand_tuples[atr2]\n",
    "    k, p = scipy.stats.spearmanr(x, y)\n",
    "    return k, p"
   ]
  },
  {
   "cell_type": "code",
   "execution_count": 68,
   "id": "2dd28ce4",
   "metadata": {},
   "outputs": [
    {
     "name": "stdout",
     "output_type": "stream",
     "text": [
      "Кореляція між targeted_productivity і smv: коефіцієнт = -0.06948887331582093, p-значення = 0.01619241099600951\n",
      "Кореляція між smv і wip: коефіцієнт = 0.32270386013400576, p-значення = 2.067396397438896e-30\n",
      "Кореляція між wip і over_time: коефіцієнт = 0.2765285669357056, p-значення = 1.882235660010119e-22\n",
      "Кореляція між over_time і incentive: коефіцієнт = -0.004793251624663182, p-значення = 0.8684220761515006\n",
      "Кореляція між incentive і idle_time: коефіцієнт = -0.012023621339270915, p-значення = 0.6777247553528513\n",
      "Кореляція між idle_time і idle_men: коефіцієнт = 0.5591459152184024, p-значення = 2.1422503153392004e-99\n",
      "Кореляція між idle_men і actual_productivity: коефіцієнт = -0.18173432643347645, p-значення = 2.391453421378788e-10\n"
     ]
    }
   ],
   "source": [
    "lst = df.select_dtypes(include=['number']).columns.to_list()\n",
    "for i in range(len(lst) - 1):\n",
    "    atr1 = lst[i]\n",
    "    atr2 = lst[i + 1]\n",
    "    correlation_coefficient, p_value = pearson_df(atr1, atr2)\n",
    "    print(f\"Кореляція між {atr1} і {atr2}: коефіцієнт = {correlation_coefficient}, p-значення = {p_value}\")"
   ]
  },
  {
   "cell_type": "code",
   "execution_count": 69,
   "id": "74876e5e",
   "metadata": {},
   "outputs": [
    {
     "name": "stdout",
     "output_type": "stream",
     "text": [
      "Кореляція між targeted_productivity і smv: коефіцієнт = -0.0913225016507916, p-значення = 0.0015622886827024167\n",
      "Кореляція між smv і wip: коефіцієнт = 0.7351683924219647, p-значення = 5.3402153183466015e-204\n",
      "Кореляція між wip і over_time: коефіцієнт = 0.6608216709540443, p-значення = 4.134243470191946e-151\n",
      "Кореляція між over_time і incentive: коефіцієнт = 0.5389557411764794, p-значення = 3.842001914505261e-91\n",
      "Кореляція між incentive і idle_time: коефіцієнт = -0.05379839356496326, p-значення = 0.06278613689669678\n",
      "Кореляція між idle_time і idle_men: коефіцієнт = 0.9999644946834236, p-значення = 0.0\n",
      "Кореляція між idle_men і actual_productivity: коефіцієнт = -0.14765806360805458, p-значення = 2.875304976481522e-07\n"
     ]
    }
   ],
   "source": [
    "for i in range(len(lst) - 1):\n",
    "    atr1 = lst[i]\n",
    "    atr2 = lst[i + 1]\n",
    "    correlation_coefficient, p_value = spearman_df(atr1, atr2)\n",
    "    print(f\"Кореляція між {atr1} і {atr2}: коефіцієнт = {correlation_coefficient}, p-значення = {p_value}\")"
   ]
  },
  {
   "cell_type": "markdown",
   "id": "9f86da54",
   "metadata": {},
   "source": [
    "### 6. Провести One Hot Encoding категоріального string атрибуту."
   ]
  },
  {
   "cell_type": "code",
   "execution_count": 70,
   "id": "e41b35ca",
   "metadata": {},
   "outputs": [
    {
     "data": {
      "text/html": [
       "<div>\n",
       "<style scoped>\n",
       "    .dataframe tbody tr th:only-of-type {\n",
       "        vertical-align: middle;\n",
       "    }\n",
       "\n",
       "    .dataframe tbody tr th {\n",
       "        vertical-align: top;\n",
       "    }\n",
       "\n",
       "    .dataframe thead th {\n",
       "        text-align: right;\n",
       "    }\n",
       "</style>\n",
       "<table border=\"1\" class=\"dataframe\">\n",
       "  <thead>\n",
       "    <tr style=\"text-align: right;\">\n",
       "      <th></th>\n",
       "      <th>date</th>\n",
       "      <th>quarter</th>\n",
       "      <th>day</th>\n",
       "      <th>team</th>\n",
       "      <th>targeted_productivity</th>\n",
       "      <th>smv</th>\n",
       "      <th>wip</th>\n",
       "      <th>over_time</th>\n",
       "      <th>incentive</th>\n",
       "      <th>idle_time</th>\n",
       "      <th>idle_men</th>\n",
       "      <th>no_of_style_change</th>\n",
       "      <th>no_of_workers</th>\n",
       "      <th>actual_productivity</th>\n",
       "      <th>department_finishing</th>\n",
       "      <th>department_sweing</th>\n",
       "    </tr>\n",
       "  </thead>\n",
       "  <tbody>\n",
       "    <tr>\n",
       "      <th>0</th>\n",
       "      <td>1/1/2015</td>\n",
       "      <td>Quarter1</td>\n",
       "      <td>Thursday</td>\n",
       "      <td>8</td>\n",
       "      <td>0.80</td>\n",
       "      <td>26.16</td>\n",
       "      <td>1108.0</td>\n",
       "      <td>7080.0</td>\n",
       "      <td>98.0</td>\n",
       "      <td>0.0</td>\n",
       "      <td>0.0</td>\n",
       "      <td>0</td>\n",
       "      <td>59.0</td>\n",
       "      <td>0.940725</td>\n",
       "      <td>0</td>\n",
       "      <td>1</td>\n",
       "    </tr>\n",
       "    <tr>\n",
       "      <th>1</th>\n",
       "      <td>1/1/2015</td>\n",
       "      <td>Quarter1</td>\n",
       "      <td>Thursday</td>\n",
       "      <td>1</td>\n",
       "      <td>0.75</td>\n",
       "      <td>3.94</td>\n",
       "      <td>0.0</td>\n",
       "      <td>960.0</td>\n",
       "      <td>0.0</td>\n",
       "      <td>0.0</td>\n",
       "      <td>0.0</td>\n",
       "      <td>0</td>\n",
       "      <td>8.0</td>\n",
       "      <td>0.886500</td>\n",
       "      <td>1</td>\n",
       "      <td>0</td>\n",
       "    </tr>\n",
       "    <tr>\n",
       "      <th>2</th>\n",
       "      <td>1/1/2015</td>\n",
       "      <td>Quarter1</td>\n",
       "      <td>Thursday</td>\n",
       "      <td>11</td>\n",
       "      <td>0.80</td>\n",
       "      <td>11.41</td>\n",
       "      <td>968.0</td>\n",
       "      <td>3660.0</td>\n",
       "      <td>50.0</td>\n",
       "      <td>0.0</td>\n",
       "      <td>0.0</td>\n",
       "      <td>0</td>\n",
       "      <td>30.5</td>\n",
       "      <td>0.800570</td>\n",
       "      <td>0</td>\n",
       "      <td>1</td>\n",
       "    </tr>\n",
       "    <tr>\n",
       "      <th>3</th>\n",
       "      <td>1/1/2015</td>\n",
       "      <td>Quarter1</td>\n",
       "      <td>Thursday</td>\n",
       "      <td>12</td>\n",
       "      <td>0.80</td>\n",
       "      <td>11.41</td>\n",
       "      <td>968.0</td>\n",
       "      <td>3660.0</td>\n",
       "      <td>50.0</td>\n",
       "      <td>0.0</td>\n",
       "      <td>0.0</td>\n",
       "      <td>0</td>\n",
       "      <td>30.5</td>\n",
       "      <td>0.800570</td>\n",
       "      <td>0</td>\n",
       "      <td>1</td>\n",
       "    </tr>\n",
       "    <tr>\n",
       "      <th>4</th>\n",
       "      <td>1/1/2015</td>\n",
       "      <td>Quarter1</td>\n",
       "      <td>Thursday</td>\n",
       "      <td>6</td>\n",
       "      <td>0.80</td>\n",
       "      <td>25.90</td>\n",
       "      <td>1170.0</td>\n",
       "      <td>1920.0</td>\n",
       "      <td>50.0</td>\n",
       "      <td>0.0</td>\n",
       "      <td>0.0</td>\n",
       "      <td>0</td>\n",
       "      <td>56.0</td>\n",
       "      <td>0.800382</td>\n",
       "      <td>0</td>\n",
       "      <td>1</td>\n",
       "    </tr>\n",
       "    <tr>\n",
       "      <th>...</th>\n",
       "      <td>...</td>\n",
       "      <td>...</td>\n",
       "      <td>...</td>\n",
       "      <td>...</td>\n",
       "      <td>...</td>\n",
       "      <td>...</td>\n",
       "      <td>...</td>\n",
       "      <td>...</td>\n",
       "      <td>...</td>\n",
       "      <td>...</td>\n",
       "      <td>...</td>\n",
       "      <td>...</td>\n",
       "      <td>...</td>\n",
       "      <td>...</td>\n",
       "      <td>...</td>\n",
       "      <td>...</td>\n",
       "    </tr>\n",
       "    <tr>\n",
       "      <th>1192</th>\n",
       "      <td>3/11/2015</td>\n",
       "      <td>Quarter2</td>\n",
       "      <td>Wednesday</td>\n",
       "      <td>10</td>\n",
       "      <td>0.75</td>\n",
       "      <td>2.90</td>\n",
       "      <td>0.0</td>\n",
       "      <td>960.0</td>\n",
       "      <td>0.0</td>\n",
       "      <td>0.0</td>\n",
       "      <td>0.0</td>\n",
       "      <td>0</td>\n",
       "      <td>8.0</td>\n",
       "      <td>0.628333</td>\n",
       "      <td>1</td>\n",
       "      <td>0</td>\n",
       "    </tr>\n",
       "    <tr>\n",
       "      <th>1193</th>\n",
       "      <td>3/11/2015</td>\n",
       "      <td>Quarter2</td>\n",
       "      <td>Wednesday</td>\n",
       "      <td>8</td>\n",
       "      <td>0.70</td>\n",
       "      <td>3.90</td>\n",
       "      <td>0.0</td>\n",
       "      <td>960.0</td>\n",
       "      <td>0.0</td>\n",
       "      <td>0.0</td>\n",
       "      <td>0.0</td>\n",
       "      <td>0</td>\n",
       "      <td>8.0</td>\n",
       "      <td>0.625625</td>\n",
       "      <td>1</td>\n",
       "      <td>0</td>\n",
       "    </tr>\n",
       "    <tr>\n",
       "      <th>1194</th>\n",
       "      <td>3/11/2015</td>\n",
       "      <td>Quarter2</td>\n",
       "      <td>Wednesday</td>\n",
       "      <td>7</td>\n",
       "      <td>0.65</td>\n",
       "      <td>3.90</td>\n",
       "      <td>0.0</td>\n",
       "      <td>960.0</td>\n",
       "      <td>0.0</td>\n",
       "      <td>0.0</td>\n",
       "      <td>0.0</td>\n",
       "      <td>0</td>\n",
       "      <td>8.0</td>\n",
       "      <td>0.625625</td>\n",
       "      <td>1</td>\n",
       "      <td>0</td>\n",
       "    </tr>\n",
       "    <tr>\n",
       "      <th>1195</th>\n",
       "      <td>3/11/2015</td>\n",
       "      <td>Quarter2</td>\n",
       "      <td>Wednesday</td>\n",
       "      <td>9</td>\n",
       "      <td>0.75</td>\n",
       "      <td>2.90</td>\n",
       "      <td>0.0</td>\n",
       "      <td>1800.0</td>\n",
       "      <td>0.0</td>\n",
       "      <td>0.0</td>\n",
       "      <td>0.0</td>\n",
       "      <td>0</td>\n",
       "      <td>15.0</td>\n",
       "      <td>0.505889</td>\n",
       "      <td>1</td>\n",
       "      <td>0</td>\n",
       "    </tr>\n",
       "    <tr>\n",
       "      <th>1196</th>\n",
       "      <td>3/11/2015</td>\n",
       "      <td>Quarter2</td>\n",
       "      <td>Wednesday</td>\n",
       "      <td>6</td>\n",
       "      <td>0.70</td>\n",
       "      <td>2.90</td>\n",
       "      <td>0.0</td>\n",
       "      <td>720.0</td>\n",
       "      <td>0.0</td>\n",
       "      <td>0.0</td>\n",
       "      <td>0.0</td>\n",
       "      <td>0</td>\n",
       "      <td>6.0</td>\n",
       "      <td>0.394722</td>\n",
       "      <td>1</td>\n",
       "      <td>0</td>\n",
       "    </tr>\n",
       "  </tbody>\n",
       "</table>\n",
       "<p>1197 rows × 16 columns</p>\n",
       "</div>"
      ],
      "text/plain": [
       "           date   quarter        day team  targeted_productivity    smv  \\\n",
       "0      1/1/2015  Quarter1   Thursday    8                   0.80  26.16   \n",
       "1      1/1/2015  Quarter1   Thursday    1                   0.75   3.94   \n",
       "2      1/1/2015  Quarter1   Thursday   11                   0.80  11.41   \n",
       "3      1/1/2015  Quarter1   Thursday   12                   0.80  11.41   \n",
       "4      1/1/2015  Quarter1   Thursday    6                   0.80  25.90   \n",
       "...         ...       ...        ...  ...                    ...    ...   \n",
       "1192  3/11/2015  Quarter2  Wednesday   10                   0.75   2.90   \n",
       "1193  3/11/2015  Quarter2  Wednesday    8                   0.70   3.90   \n",
       "1194  3/11/2015  Quarter2  Wednesday    7                   0.65   3.90   \n",
       "1195  3/11/2015  Quarter2  Wednesday    9                   0.75   2.90   \n",
       "1196  3/11/2015  Quarter2  Wednesday    6                   0.70   2.90   \n",
       "\n",
       "         wip  over_time  incentive  idle_time  idle_men no_of_style_change  \\\n",
       "0     1108.0     7080.0       98.0        0.0       0.0                  0   \n",
       "1        0.0      960.0        0.0        0.0       0.0                  0   \n",
       "2      968.0     3660.0       50.0        0.0       0.0                  0   \n",
       "3      968.0     3660.0       50.0        0.0       0.0                  0   \n",
       "4     1170.0     1920.0       50.0        0.0       0.0                  0   \n",
       "...      ...        ...        ...        ...       ...                ...   \n",
       "1192     0.0      960.0        0.0        0.0       0.0                  0   \n",
       "1193     0.0      960.0        0.0        0.0       0.0                  0   \n",
       "1194     0.0      960.0        0.0        0.0       0.0                  0   \n",
       "1195     0.0     1800.0        0.0        0.0       0.0                  0   \n",
       "1196     0.0      720.0        0.0        0.0       0.0                  0   \n",
       "\n",
       "     no_of_workers  actual_productivity  department_finishing  \\\n",
       "0             59.0             0.940725                     0   \n",
       "1              8.0             0.886500                     1   \n",
       "2             30.5             0.800570                     0   \n",
       "3             30.5             0.800570                     0   \n",
       "4             56.0             0.800382                     0   \n",
       "...            ...                  ...                   ...   \n",
       "1192           8.0             0.628333                     1   \n",
       "1193           8.0             0.625625                     1   \n",
       "1194           8.0             0.625625                     1   \n",
       "1195          15.0             0.505889                     1   \n",
       "1196           6.0             0.394722                     1   \n",
       "\n",
       "      department_sweing  \n",
       "0                     1  \n",
       "1                     0  \n",
       "2                     1  \n",
       "3                     1  \n",
       "4                     1  \n",
       "...                 ...  \n",
       "1192                  0  \n",
       "1193                  0  \n",
       "1194                  0  \n",
       "1195                  0  \n",
       "1196                  0  \n",
       "\n",
       "[1197 rows x 16 columns]"
      ]
     },
     "execution_count": 70,
     "metadata": {},
     "output_type": "execute_result"
    }
   ],
   "source": [
    "def onehotencoding_df():\n",
    "    df_encoded = pd.get_dummies(df, columns=['department'], prefix = \"department\")\n",
    "    return df_encoded\n",
    "onehotencoding_df()"
   ]
  },
  {
   "cell_type": "code",
   "execution_count": 74,
   "id": "49af068f",
   "metadata": {},
   "outputs": [
    {
     "data": {
      "text/plain": [
       "array([['1/1/2015', 'Quarter1', 'Thursday', ..., 0.940725424, 0.0, 1.0],\n",
       "       ['1/1/2015', 'Quarter1', 'Thursday', ..., 0.8865, 1.0, 0.0],\n",
       "       ['1/1/2015', 'Quarter1', 'Thursday', ..., 0.800570492, 0.0, 1.0],\n",
       "       ...,\n",
       "       ['3/11/2015', 'Quarter2', 'Wednesday', ..., 0.625625, 1.0, 0.0],\n",
       "       ['3/11/2015', 'Quarter2', 'Wednesday', ..., 0.505888889, 1.0, 0.0],\n",
       "       ['3/11/2015', 'Quarter2', 'Wednesday', ..., 0.394722222, 1.0, 0.0]],\n",
       "      dtype=object)"
      ]
     },
     "execution_count": 74,
     "metadata": {},
     "output_type": "execute_result"
    }
   ],
   "source": [
    "encoder = OneHotEncoder(sparse_output=False, handle_unknown='ignore')\n",
    "departments = arr[:, 2]  # Assuming 'department' is the third column (index 2)\n",
    "departments_encoded = encoder.fit_transform(departments.reshape(-1, 1))\n",
    "arr_without_department = np.delete(arr, 2, axis=1)  # Remove the 'department' column\n",
    "arr_encoded = np.hstack((arr_without_department, departments_encoded))\n",
    "arr_encoded"
   ]
  },
  {
   "cell_type": "code",
   "execution_count": 96,
   "id": "88368dd4",
   "metadata": {},
   "outputs": [
    {
     "data": {
      "text/plain": [
       "['date',\n",
       " 'quarter',\n",
       " 'day',\n",
       " 'team',\n",
       " 'targeted_productivity',\n",
       " 'smv',\n",
       " 'wip',\n",
       " 'over_time',\n",
       " 'incentive',\n",
       " 'idle_time',\n",
       " 'idle_men',\n",
       " 'no_of_style_change',\n",
       " 'no_of_workers',\n",
       " 'actual_productivity']"
      ]
     },
     "execution_count": 96,
     "metadata": {},
     "output_type": "execute_result"
    }
   ],
   "source": [
    "names = list(arr_tuples.dtype.names)\n",
    "names.remove('department')\n",
    "names"
   ]
  },
  {
   "cell_type": "code",
   "execution_count": 100,
   "id": "aae8675b",
   "metadata": {},
   "outputs": [
    {
     "data": {
      "text/plain": [
       "array([('1/1/2015', 'Quarter1', 'Thursday', 8, 0.8 , 26.16, 1108., 7080., 98., 0., 0., 0, 59.0, 0.94072542),\n",
       "       ('1/1/2015', 'Quarter1', 'Thursday', 1, 0.75,  3.94,    0.,  960.,  0., 0., 0., 0, 8.0, 0.8865    ),\n",
       "       ('1/1/2015', 'Quarter1', 'Thursday', 11, 0.8 , 11.41,  968., 3660., 50., 0., 0., 0, 30.5, 0.80057049),\n",
       "       ...,\n",
       "       ('3/11/2015', 'Quarter2', 'Wednesday', 7, 0.65,  3.9 ,    0.,  960.,  0., 0., 0., 0, 8.0, 0.625625  ),\n",
       "       ('3/11/2015', 'Quarter2', 'Wednesday', 9, 0.75,  2.9 ,    0., 1800.,  0., 0., 0., 0, 15.0, 0.50588889),\n",
       "       ('3/11/2015', 'Quarter2', 'Wednesday', 6, 0.7 ,  2.9 ,    0.,  720.,  0., 0., 0., 0, 6.0, 0.39472222)],\n",
       "      dtype={'names': ['date', 'quarter', 'day', 'team', 'targeted_productivity', 'smv', 'wip', 'over_time', 'incentive', 'idle_time', 'idle_men', 'no_of_style_change', 'no_of_workers', 'actual_productivity'], 'formats': ['O', 'O', 'O', 'O', '<f8', '<f8', '<f8', '<f8', '<f8', '<f8', '<f8', 'O', 'O', '<f8'], 'offsets': [0, 8, 24, 32, 40, 48, 56, 64, 72, 80, 88, 96, 104, 112], 'itemsize': 120})"
      ]
     },
     "execution_count": 100,
     "metadata": {},
     "output_type": "execute_result"
    }
   ],
   "source": [
    "mask = list(arr_tuples.dtype.names)\n",
    "mask.remove('department')\n",
    "arr_without_department = arr_tuples[mask]\n",
    "arr_without_department"
   ]
  },
  {
   "cell_type": "code",
   "execution_count": 103,
   "id": "88cee803",
   "metadata": {},
   "outputs": [
    {
     "ename": "ValueError",
     "evalue": "all the input arrays must have same number of dimensions, but the array at index 0 has 1 dimension(s) and the array at index 1 has 2 dimension(s)",
     "output_type": "error",
     "traceback": [
      "\u001b[1;31m---------------------------------------------------------------------------\u001b[0m",
      "\u001b[1;31mValueError\u001b[0m                                Traceback (most recent call last)",
      "Cell \u001b[1;32mIn[103], line 22\u001b[0m\n\u001b[0;32m     19\u001b[0m arr_without_department \u001b[38;5;241m=\u001b[39m arr_tuples[columns_list]\n\u001b[0;32m     21\u001b[0m \u001b[38;5;66;03m# Stack the one-hot encoded 'department' column with the remaining columns\u001b[39;00m\n\u001b[1;32m---> 22\u001b[0m arr_encoded_1 \u001b[38;5;241m=\u001b[39m np\u001b[38;5;241m.\u001b[39mhstack((arr_without_department, departments_encoded))\n",
      "File \u001b[1;32m<__array_function__ internals>:200\u001b[0m, in \u001b[0;36mhstack\u001b[1;34m(*args, **kwargs)\u001b[0m\n",
      "File \u001b[1;32mD:\\Anaconda\\Lib\\site-packages\\numpy\\core\\shape_base.py:368\u001b[0m, in \u001b[0;36mhstack\u001b[1;34m(tup, dtype, casting)\u001b[0m\n\u001b[0;32m    366\u001b[0m \u001b[38;5;66;03m# As a special case, dimension 0 of 1-dimensional arrays is \"horizontal\"\u001b[39;00m\n\u001b[0;32m    367\u001b[0m \u001b[38;5;28;01mif\u001b[39;00m arrs \u001b[38;5;129;01mand\u001b[39;00m arrs[\u001b[38;5;241m0\u001b[39m]\u001b[38;5;241m.\u001b[39mndim \u001b[38;5;241m==\u001b[39m \u001b[38;5;241m1\u001b[39m:\n\u001b[1;32m--> 368\u001b[0m     \u001b[38;5;28;01mreturn\u001b[39;00m _nx\u001b[38;5;241m.\u001b[39mconcatenate(arrs, \u001b[38;5;241m0\u001b[39m, dtype\u001b[38;5;241m=\u001b[39mdtype, casting\u001b[38;5;241m=\u001b[39mcasting)\n\u001b[0;32m    369\u001b[0m \u001b[38;5;28;01melse\u001b[39;00m:\n\u001b[0;32m    370\u001b[0m     \u001b[38;5;28;01mreturn\u001b[39;00m _nx\u001b[38;5;241m.\u001b[39mconcatenate(arrs, \u001b[38;5;241m1\u001b[39m, dtype\u001b[38;5;241m=\u001b[39mdtype, casting\u001b[38;5;241m=\u001b[39mcasting)\n",
      "File \u001b[1;32m<__array_function__ internals>:200\u001b[0m, in \u001b[0;36mconcatenate\u001b[1;34m(*args, **kwargs)\u001b[0m\n",
      "\u001b[1;31mValueError\u001b[0m: all the input arrays must have same number of dimensions, but the array at index 0 has 1 dimension(s) and the array at index 1 has 2 dimension(s)"
     ]
    }
   ],
   "source": [
    "from sklearn.preprocessing import OneHotEncoder\n",
    "\n",
    "# Create the OneHotEncoder\n",
    "encoder = OneHotEncoder(sparse_output=False, handle_unknown='ignore')\n",
    "\n",
    "# Assuming 'department' is the third field (index 2) in the structured array\n",
    "departments = arr_tuples['department']\n",
    "\n",
    "# Encode the 'department' column\n",
    "departments_encoded = encoder.fit_transform(departments.reshape(-1, 1))\n",
    "\n",
    "# Create a list of column names\n",
    "columns_list = arr_tuples.dtype.names\n",
    "\n",
    "# Remove the 'department' column from the list\n",
    "columns_list = list(filter(lambda col: col != 'department', columns_list))\n",
    "\n",
    "# Select the remaining columns from the structured array\n",
    "arr_without_department = arr_tuples[columns_list]\n",
    "\n",
    "# Stack the one-hot encoded 'department' column with the remaining columns\n",
    "arr_encoded_1 = np.hstack((arr_without_department, departments_encoded))\n",
    "\n",
    "# 'arr_encoded_1' is the resulting array with one-hot encoded 'department'\n"
   ]
  },
  {
   "cell_type": "markdown",
   "id": "697235af",
   "metadata": {},
   "source": [
    "### 7. Провести візуалізацію багатовимірних даних<br>\n",
    "використовуючи приклади, наведені у медіумі - https://towardsdatascience.com/the-art-of-effective-visualization-of-multi-dimensional-data-6c7202990c57."
   ]
  },
  {
   "cell_type": "code",
   "execution_count": 50,
   "id": "1373e993",
   "metadata": {},
   "outputs": [
    {
     "data": {
      "text/html": [
       "<div>\n",
       "<style scoped>\n",
       "    .dataframe tbody tr th:only-of-type {\n",
       "        vertical-align: middle;\n",
       "    }\n",
       "\n",
       "    .dataframe tbody tr th {\n",
       "        vertical-align: top;\n",
       "    }\n",
       "\n",
       "    .dataframe thead th {\n",
       "        text-align: right;\n",
       "    }\n",
       "</style>\n",
       "<table border=\"1\" class=\"dataframe\">\n",
       "  <thead>\n",
       "    <tr style=\"text-align: right;\">\n",
       "      <th></th>\n",
       "      <th>date</th>\n",
       "      <th>quarter</th>\n",
       "      <th>department</th>\n",
       "      <th>day</th>\n",
       "      <th>team</th>\n",
       "      <th>targeted_productivity</th>\n",
       "      <th>smv</th>\n",
       "      <th>wip</th>\n",
       "      <th>over_time</th>\n",
       "      <th>incentive</th>\n",
       "      <th>idle_time</th>\n",
       "      <th>idle_men</th>\n",
       "      <th>no_of_style_change</th>\n",
       "      <th>no_of_workers</th>\n",
       "      <th>actual_productivity</th>\n",
       "    </tr>\n",
       "  </thead>\n",
       "  <tbody>\n",
       "    <tr>\n",
       "      <th>0</th>\n",
       "      <td>1/1/2015</td>\n",
       "      <td>Quarter1</td>\n",
       "      <td>sweing</td>\n",
       "      <td>Thursday</td>\n",
       "      <td>8</td>\n",
       "      <td>0.80</td>\n",
       "      <td>26.16</td>\n",
       "      <td>1108.0</td>\n",
       "      <td>7080.0</td>\n",
       "      <td>98.0</td>\n",
       "      <td>0.0</td>\n",
       "      <td>0.0</td>\n",
       "      <td>0</td>\n",
       "      <td>59.0</td>\n",
       "      <td>0.940725</td>\n",
       "    </tr>\n",
       "    <tr>\n",
       "      <th>1</th>\n",
       "      <td>1/1/2015</td>\n",
       "      <td>Quarter1</td>\n",
       "      <td>finishing</td>\n",
       "      <td>Thursday</td>\n",
       "      <td>1</td>\n",
       "      <td>0.75</td>\n",
       "      <td>3.94</td>\n",
       "      <td>0.0</td>\n",
       "      <td>960.0</td>\n",
       "      <td>0.0</td>\n",
       "      <td>0.0</td>\n",
       "      <td>0.0</td>\n",
       "      <td>0</td>\n",
       "      <td>8.0</td>\n",
       "      <td>0.886500</td>\n",
       "    </tr>\n",
       "    <tr>\n",
       "      <th>2</th>\n",
       "      <td>1/1/2015</td>\n",
       "      <td>Quarter1</td>\n",
       "      <td>sweing</td>\n",
       "      <td>Thursday</td>\n",
       "      <td>11</td>\n",
       "      <td>0.80</td>\n",
       "      <td>11.41</td>\n",
       "      <td>968.0</td>\n",
       "      <td>3660.0</td>\n",
       "      <td>50.0</td>\n",
       "      <td>0.0</td>\n",
       "      <td>0.0</td>\n",
       "      <td>0</td>\n",
       "      <td>30.5</td>\n",
       "      <td>0.800570</td>\n",
       "    </tr>\n",
       "    <tr>\n",
       "      <th>3</th>\n",
       "      <td>1/1/2015</td>\n",
       "      <td>Quarter1</td>\n",
       "      <td>sweing</td>\n",
       "      <td>Thursday</td>\n",
       "      <td>12</td>\n",
       "      <td>0.80</td>\n",
       "      <td>11.41</td>\n",
       "      <td>968.0</td>\n",
       "      <td>3660.0</td>\n",
       "      <td>50.0</td>\n",
       "      <td>0.0</td>\n",
       "      <td>0.0</td>\n",
       "      <td>0</td>\n",
       "      <td>30.5</td>\n",
       "      <td>0.800570</td>\n",
       "    </tr>\n",
       "    <tr>\n",
       "      <th>4</th>\n",
       "      <td>1/1/2015</td>\n",
       "      <td>Quarter1</td>\n",
       "      <td>sweing</td>\n",
       "      <td>Thursday</td>\n",
       "      <td>6</td>\n",
       "      <td>0.80</td>\n",
       "      <td>25.90</td>\n",
       "      <td>1170.0</td>\n",
       "      <td>1920.0</td>\n",
       "      <td>50.0</td>\n",
       "      <td>0.0</td>\n",
       "      <td>0.0</td>\n",
       "      <td>0</td>\n",
       "      <td>56.0</td>\n",
       "      <td>0.800382</td>\n",
       "    </tr>\n",
       "    <tr>\n",
       "      <th>...</th>\n",
       "      <td>...</td>\n",
       "      <td>...</td>\n",
       "      <td>...</td>\n",
       "      <td>...</td>\n",
       "      <td>...</td>\n",
       "      <td>...</td>\n",
       "      <td>...</td>\n",
       "      <td>...</td>\n",
       "      <td>...</td>\n",
       "      <td>...</td>\n",
       "      <td>...</td>\n",
       "      <td>...</td>\n",
       "      <td>...</td>\n",
       "      <td>...</td>\n",
       "      <td>...</td>\n",
       "    </tr>\n",
       "    <tr>\n",
       "      <th>1192</th>\n",
       "      <td>3/11/2015</td>\n",
       "      <td>Quarter2</td>\n",
       "      <td>finishing</td>\n",
       "      <td>Wednesday</td>\n",
       "      <td>10</td>\n",
       "      <td>0.75</td>\n",
       "      <td>2.90</td>\n",
       "      <td>0.0</td>\n",
       "      <td>960.0</td>\n",
       "      <td>0.0</td>\n",
       "      <td>0.0</td>\n",
       "      <td>0.0</td>\n",
       "      <td>0</td>\n",
       "      <td>8.0</td>\n",
       "      <td>0.628333</td>\n",
       "    </tr>\n",
       "    <tr>\n",
       "      <th>1193</th>\n",
       "      <td>3/11/2015</td>\n",
       "      <td>Quarter2</td>\n",
       "      <td>finishing</td>\n",
       "      <td>Wednesday</td>\n",
       "      <td>8</td>\n",
       "      <td>0.70</td>\n",
       "      <td>3.90</td>\n",
       "      <td>0.0</td>\n",
       "      <td>960.0</td>\n",
       "      <td>0.0</td>\n",
       "      <td>0.0</td>\n",
       "      <td>0.0</td>\n",
       "      <td>0</td>\n",
       "      <td>8.0</td>\n",
       "      <td>0.625625</td>\n",
       "    </tr>\n",
       "    <tr>\n",
       "      <th>1194</th>\n",
       "      <td>3/11/2015</td>\n",
       "      <td>Quarter2</td>\n",
       "      <td>finishing</td>\n",
       "      <td>Wednesday</td>\n",
       "      <td>7</td>\n",
       "      <td>0.65</td>\n",
       "      <td>3.90</td>\n",
       "      <td>0.0</td>\n",
       "      <td>960.0</td>\n",
       "      <td>0.0</td>\n",
       "      <td>0.0</td>\n",
       "      <td>0.0</td>\n",
       "      <td>0</td>\n",
       "      <td>8.0</td>\n",
       "      <td>0.625625</td>\n",
       "    </tr>\n",
       "    <tr>\n",
       "      <th>1195</th>\n",
       "      <td>3/11/2015</td>\n",
       "      <td>Quarter2</td>\n",
       "      <td>finishing</td>\n",
       "      <td>Wednesday</td>\n",
       "      <td>9</td>\n",
       "      <td>0.75</td>\n",
       "      <td>2.90</td>\n",
       "      <td>0.0</td>\n",
       "      <td>1800.0</td>\n",
       "      <td>0.0</td>\n",
       "      <td>0.0</td>\n",
       "      <td>0.0</td>\n",
       "      <td>0</td>\n",
       "      <td>15.0</td>\n",
       "      <td>0.505889</td>\n",
       "    </tr>\n",
       "    <tr>\n",
       "      <th>1196</th>\n",
       "      <td>3/11/2015</td>\n",
       "      <td>Quarter2</td>\n",
       "      <td>finishing</td>\n",
       "      <td>Wednesday</td>\n",
       "      <td>6</td>\n",
       "      <td>0.70</td>\n",
       "      <td>2.90</td>\n",
       "      <td>0.0</td>\n",
       "      <td>720.0</td>\n",
       "      <td>0.0</td>\n",
       "      <td>0.0</td>\n",
       "      <td>0.0</td>\n",
       "      <td>0</td>\n",
       "      <td>6.0</td>\n",
       "      <td>0.394722</td>\n",
       "    </tr>\n",
       "  </tbody>\n",
       "</table>\n",
       "<p>1197 rows × 15 columns</p>\n",
       "</div>"
      ],
      "text/plain": [
       "           date   quarter department        day team  targeted_productivity  \\\n",
       "0      1/1/2015  Quarter1     sweing   Thursday    8                   0.80   \n",
       "1      1/1/2015  Quarter1  finishing   Thursday    1                   0.75   \n",
       "2      1/1/2015  Quarter1     sweing   Thursday   11                   0.80   \n",
       "3      1/1/2015  Quarter1     sweing   Thursday   12                   0.80   \n",
       "4      1/1/2015  Quarter1     sweing   Thursday    6                   0.80   \n",
       "...         ...       ...        ...        ...  ...                    ...   \n",
       "1192  3/11/2015  Quarter2  finishing  Wednesday   10                   0.75   \n",
       "1193  3/11/2015  Quarter2  finishing  Wednesday    8                   0.70   \n",
       "1194  3/11/2015  Quarter2  finishing  Wednesday    7                   0.65   \n",
       "1195  3/11/2015  Quarter2  finishing  Wednesday    9                   0.75   \n",
       "1196  3/11/2015  Quarter2  finishing  Wednesday    6                   0.70   \n",
       "\n",
       "        smv     wip  over_time  incentive  idle_time  idle_men  \\\n",
       "0     26.16  1108.0     7080.0       98.0        0.0       0.0   \n",
       "1      3.94     0.0      960.0        0.0        0.0       0.0   \n",
       "2     11.41   968.0     3660.0       50.0        0.0       0.0   \n",
       "3     11.41   968.0     3660.0       50.0        0.0       0.0   \n",
       "4     25.90  1170.0     1920.0       50.0        0.0       0.0   \n",
       "...     ...     ...        ...        ...        ...       ...   \n",
       "1192   2.90     0.0      960.0        0.0        0.0       0.0   \n",
       "1193   3.90     0.0      960.0        0.0        0.0       0.0   \n",
       "1194   3.90     0.0      960.0        0.0        0.0       0.0   \n",
       "1195   2.90     0.0     1800.0        0.0        0.0       0.0   \n",
       "1196   2.90     0.0      720.0        0.0        0.0       0.0   \n",
       "\n",
       "     no_of_style_change no_of_workers  actual_productivity  \n",
       "0                     0          59.0             0.940725  \n",
       "1                     0           8.0             0.886500  \n",
       "2                     0          30.5             0.800570  \n",
       "3                     0          30.5             0.800570  \n",
       "4                     0          56.0             0.800382  \n",
       "...                 ...           ...                  ...  \n",
       "1192                  0           8.0             0.628333  \n",
       "1193                  0           8.0             0.625625  \n",
       "1194                  0           8.0             0.625625  \n",
       "1195                  0          15.0             0.505889  \n",
       "1196                  0           6.0             0.394722  \n",
       "\n",
       "[1197 rows x 15 columns]"
      ]
     },
     "execution_count": 50,
     "metadata": {},
     "output_type": "execute_result"
    }
   ],
   "source": [
    "df"
   ]
  },
  {
   "cell_type": "code",
   "execution_count": 51,
   "id": "3b94b45f",
   "metadata": {},
   "outputs": [
    {
     "data": {
      "image/png": "[encoded data removed]",
      "text/plain": [
       "<Figure size 2671x432 with 5 Axes>"
      ]
     },
     "metadata": {
      "needs_background": "light"
     },
     "output_type": "display_data"
    }
   ],
   "source": [
    "g = sns.FacetGrid(df, hue=\"department\", col='quarter', \n",
    "                  hue_order=['finishing', 'sweing'], col_order=['Quarter1', 'Quarter2', 'Quarter3', \"Quarter4\", \"Quarter5\"],\n",
    "                 aspect= 1.2, height=6, palette=sns.light_palette('red', 4)[1:5])\n",
    "g.map(sns.regplot, \"actual_productivity\", \"targeted_productivity\", )\n",
    "fig = g.fig \n",
    "fig.subplots_adjust(top=0.8, wspace=0.3)\n",
    "fig.suptitle('targeted_productivit - actual_productivity - quarter - department', fontsize=14)\n",
    "l = g.add_legend(title='Department')"
   ]
  },
  {
   "cell_type": "code",
   "execution_count": 52,
   "id": "f879d382",
   "metadata": {},
   "outputs": [
    {
     "data": {
      "text/plain": [
       "<matplotlib.legend.Legend at 0x21008c50dd0>"
      ]
     },
     "execution_count": 52,
     "metadata": {},
     "output_type": "execute_result"
    },
    {
     "data": {
      "image/png": "[encoded data removed]",
      "text/plain": [
       "<Figure size 1008x1152 with 1 Axes>"
      ]
     },
     "metadata": {
      "needs_background": "light"
     },
     "output_type": "display_data"
    }
   ],
   "source": [
    "fig = plt.figure(figsize=(14, 16))\n",
    "t = fig.suptitle('targeted_productivit - actual_productivity - smv - department', fontsize=14)\n",
    "ax = fig.add_subplot(111, projection='3d')\n",
    "colors = ['red' if i == 'finishing' else 'yellow' for i in list(df['department'])]\n",
    "\n",
    "finishing_mask = df['department'] == 'finishing'\n",
    "sweing_mask = df['department'] == 'sweing'\n",
    "\n",
    "ax.scatter(xs=df[finishing_mask]['targeted_productivity'], ys=df[finishing_mask]['actual_productivity'], \n",
    "           zs=df[finishing_mask]['smv'], alpha=0.5, c='red', edgecolors='black', s=30, label='finishing')\n",
    "\n",
    "ax.scatter(xs=df[sweing_mask]['targeted_productivity'], ys=df[sweing_mask]['actual_productivity'], \n",
    "           zs=df[sweing_mask]['smv'], alpha=0.5, c='yellow', edgecolors='black', s=30, label='sweing')\n",
    "ax.set_xlabel('targeted_productivity')\n",
    "ax.set_ylabel('actual_productivity')\n",
    "ax.set_zlabel('smv')\n",
    "ax.legend(title='Department')"
   ]
  },
  {
   "cell_type": "code",
   "execution_count": null,
   "id": "fad10221",
   "metadata": {},
   "outputs": [],
   "source": []
  }
 ],
 "metadata": {
  "kernelspec": {
   "display_name": "Python 3",
   "language": "python",
   "name": "python3"
  },
  "language_info": {
   "codemirror_mode": {
    "name": "ipython",
    "version": 3
   },
   "file_extension": ".py",
   "mimetype": "text/x-python",
   "name": "python",
   "nbconvert_exporter": "python",
   "pygments_lexer": "ipython3",
   "version": "3.11.4"
  }
 },
 "nbformat": 4,
 "nbformat_minor": 5
}
