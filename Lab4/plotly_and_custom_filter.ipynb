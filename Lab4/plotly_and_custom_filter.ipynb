{
 "cells": [
  {
   "cell_type": "code",
   "execution_count": 13,
   "id": "6a1e932f-3434-4e43-8e7d-1e141fa3d99f",
   "metadata": {
    "tags": []
   },
   "outputs": [],
   "source": [
    "import numpy as np\n",
    "import plotly.graph_objects as go\n",
    "from ipywidgets import interactive, FloatSlider, Checkbox, IntSlider\n",
    "from custom_savgol_filter import savgol_filter_custom\n",
    "from scipy.signal import savgol_filter"
   ]
  },
  {
   "cell_type": "code",
   "execution_count": 25,
   "id": "371b9ca7-547f-49eb-aaa9-3980350f6144",
   "metadata": {
    "tags": []
   },
   "outputs": [],
   "source": [
    "# Стартовые данные\n",
    "x = np.linspace(0, 1, 1000)\n",
    "initial_amplitude = 1.0\n",
    "initial_frequency = 1.0\n",
    "initial_phase = 0.0\n",
    "initial_noise_mean = 0.0\n",
    "initial_noise_covariance = 0.0\n",
    "initial_show_noise = True\n",
    "initial_window_length = 0\n",
    "initial_polyorder = 0"
   ]
  },
  {
   "cell_type": "code",
   "execution_count": 26,
   "id": "6f66845e-bcd2-4afc-82ad-19ba5e348c6d",
   "metadata": {
    "tags": []
   },
   "outputs": [],
   "source": [
    "# Создаем слайдеры и чекбокс\n",
    "amplitude_slider = FloatSlider(value=initial_amplitude, min=0, max=10.0, step=0.1, description='Amplitude')\n",
    "frequency_slider = FloatSlider(value=initial_frequency, min=0, max=10.0, step=0.1, description='Frequency')\n",
    "phase_slider = FloatSlider(value=initial_phase, min=0, max=100, step=0.1, description='Phase')\n",
    "noise_mean_slider = FloatSlider(value=initial_noise_mean, min=0, max=10, step=0.1, description='Noise mean')\n",
    "noise_covariance_slider = FloatSlider(value=initial_noise_covariance, min=0, max=10, step=0.1, description='Noise covariance')\n",
    "show_noise_checkbox = Checkbox(value=True,description='Show noise')\n",
    "window_size_slider = IntSlider(value=initial_window_length, min=0, max=200, step=1, description='Window size')\n",
    "polyorder_slider = IntSlider(value=initial_polyorder, min=0, max=10, step=1, description='Polyorder')                               "
   ]
  },
  {
   "cell_type": "code",
   "execution_count": 37,
   "id": "76b65391-5493-40ee-9911-aed77b23e3fb",
   "metadata": {
    "tags": []
   },
   "outputs": [],
   "source": [
    "signal = f(x, initial_amplitude, initial_frequency, initial_phase, initial_noise_mean,\n",
    "                              initial_noise_covariance, initial_show_noise)"
   ]
  },
  {
   "cell_type": "code",
   "execution_count": null,
   "id": "c93760ab-f9e0-4d42-95a3-7f439be9596a",
   "metadata": {},
   "outputs": [],
   "source": [
    "fig = go.Figure()\n",
    "fig.add_trace(go.Scatter(x=x, y=signal, mode='lines', name='Sinusoid'))"
   ]
  },
  {
   "cell_type": "code",
   "execution_count": 27,
   "id": "738dca98-888e-4df9-9d90-da19e5b7ceef",
   "metadata": {
    "tags": []
   },
   "outputs": [],
   "source": [
    "# Создаем функцию гармоники\n",
    "def f(t, amplitude, frequency, phase, noise_mean, noise_covariance, show_noise):\n",
    "    harmonic = amplitude * np.sin(2 * np.pi * frequency * t + phase)\n",
    "    if show_noise:\n",
    "        noise = np.random.normal(noise_mean, np.sqrt(noise_covariance), size=len(t))\n",
    "        return harmonic + noise\n",
    "    else:\n",
    "        return harmonic"
   ]
  },
  {
   "cell_type": "code",
   "execution_count": 43,
   "id": "c2245b3d-1101-4d22-9a22-b3ff80f62d51",
   "metadata": {
    "tags": []
   },
   "outputs": [],
   "source": [
    "# Функция для обновления графика при изменении слайдеров\n",
    "def update_plot(amplitude, frequency, phase, noise_mean, noise_covariance, show_noise, window_length, polyorder):\n",
    "    fig = go.Figure()\n",
    "    fig.add_trace(go.Scatter(x=x, y=f(x, amplitude, frequency, phase, noise_mean, noise_covariance, show_noise),\n",
    "                             mode='lines', name='Sinusoid'))\n",
    "    if show_noise and noise_covariance!=0:\n",
    "        fig.add_trace(go.Scatter(x=x, y=savgol_filter_custom(f(x, amplitude, frequency, phase, noise_mean, noise_covariance, show_noise), window_length, polyorder),\n",
    "                             mode='lines', name='Custom filtered'))\n",
    "        fig.add_trace(go.Scatter(x=x, y=savgol_filter(f(x, amplitude, frequency, phase, noise_mean, noise_covariance, show_noise), window_length , polyorder),\n",
    "                             mode='lines', name='Scipy filtered'))   \n",
    "    fig.update_layout(title='Sinusoid Plot',\n",
    "                      xaxis_title='X',\n",
    "                      yaxis_title='Y',\n",
    "                      showlegend=False)\n",
    "    fig.show()"
   ]
  },
  {
   "cell_type": "code",
   "execution_count": 46,
   "id": "27b73890-d71d-46ba-8022-5e89275ed0d9",
   "metadata": {
    "tags": []
   },
   "outputs": [
    {
     "data": {
      "application/vnd.jupyter.widget-view+json": {
       "model_id": "8baf385ae7a440c49b8f1ca485718b4d",
       "version_major": 2,
       "version_minor": 0
      },
      "text/plain": [
       "interactive(children=(FloatSlider(value=1.0, description='Amplitude', max=10.0), FloatSlider(value=5.9, descri…"
      ]
     },
     "execution_count": 46,
     "metadata": {},
     "output_type": "execute_result"
    }
   ],
   "source": [
    "interactive_plot = interactive(update_plot,\n",
    "                               amplitude=amplitude_slider,\n",
    "                               frequency=frequency_slider,\n",
    "                               phase=phase_slider,\n",
    "                               noise_mean = noise_mean_slider,\n",
    "                               noise_covariance = noise_covariance_slider,\n",
    "                               show_noise = show_noise_checkbox,\n",
    "                               window_length = window_size_slider,\n",
    "                               polyorder = polyorder_slider\n",
    "                               )\n",
    "\n",
    "interactive_plot"
   ]
  },
  {
   "cell_type": "code",
   "execution_count": null,
   "id": "a21888ea",
   "metadata": {},
   "outputs": [],
   "source": []
  }
 ],
 "metadata": {
  "kernelspec": {
   "display_name": "Python 3",
   "language": "python",
   "name": "python3"
  },
  "language_info": {
   "codemirror_mode": {
    "name": "ipython",
    "version": 3
   },
   "file_extension": ".py",
   "mimetype": "text/x-python",
   "name": "python",
   "nbconvert_exporter": "python",
   "pygments_lexer": "ipython3",
   "version": "3.11.4"
  }
 },
 "nbformat": 4,
 "nbformat_minor": 5
}
